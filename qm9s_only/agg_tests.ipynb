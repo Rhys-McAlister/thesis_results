{
 "cells": [
  {
   "cell_type": "code",
   "execution_count": 1,
   "metadata": {},
   "outputs": [
    {
     "name": "stderr",
     "output_type": "stream",
     "text": [
      "Seed set to 1\n"
     ]
    }
   ],
   "source": [
    "import pandas as pd\n",
    "import numpy as np\n",
    "import matplotlib.pyplot as plt\n",
    "from lightning import pytorch as pl\n",
    "from sklearn.model_selection import train_test_split\n",
    "import torch\n",
    "torch.set_float32_matmul_precision('medium')\n",
    "from chemprop import data, featurizers, models, nn\n",
    "pl.seed_everything(1)\n",
    "# from data_utils import data_prep, prep_data, load_data, split_data, preprocess_data, create_data_loaders, create_mpnn_model\n",
    "%load_ext autoreload\n",
    "%autoreload 2"
   ]
  },
  {
   "cell_type": "code",
   "execution_count": 2,
   "metadata": {},
   "outputs": [],
   "source": [
    "# import pytorch_lightning as pl\n",
    "\n",
    "class MetricTracker(pl.Callback):\n",
    "    def __init__(self):\n",
    "        self.metrics = []\n",
    "\n",
    "    def on_validation_end(self, trainer, pl_module):\n",
    "        self.metrics.append(trainer.callback_metrics)\n",
    "\n",
    "    def save_metrics(self, file_path):\n",
    "        metrics_dict = {}\n",
    "        for metric_dict in self.metrics:\n",
    "            for key, value in metric_dict.items():\n",
    "                if key not in metrics_dict:\n",
    "                    metrics_dict[key] = []\n",
    "                metrics_dict[key].append(value.item())\n",
    "\n",
    "        with open(file_path, 'w') as file:\n",
    "            for key, values in metrics_dict.items():\n",
    "                file.write(f\"{key}: {values}\\n\")"
   ]
  },
  {
   "cell_type": "code",
   "execution_count": 3,
   "metadata": {},
   "outputs": [],
   "source": [
    "def get_mol_datapoints(df, smiles_column, target_columns):\n",
    "    smis = df.loc[:, smiles_column].values\n",
    "    ys = df.loc[:, target_columns].values\n",
    "    return [data.MoleculeDatapoint.from_smi(smi, y) for smi, y in zip(smis, ys)]\n",
    "\n",
    "def get_data_loader(df, smiles_column, target_columns, batch_size, num_workers):\n",
    "    data_points = get_mol_datapoints(df, smiles_column, target_columns)\n",
    "    featurizer = featurizers.SimpleMoleculeMolGraphFeaturizer()\n",
    "\n",
    "    dset = data.MoleculeDataset(data_points, featurizer)\n",
    "    return data.MolGraphDataLoader(dset, num_workers=num_workers)"
   ]
  },
  {
   "cell_type": "code",
   "execution_count": 4,
   "metadata": {},
   "outputs": [],
   "source": [
    "input_path = r'C:\\Users\\rhys-\\OneDrive\\Documents\\Github\\chemprop\\notebooks\\big_data\\data\\ir_dataset_minmax_scaled.parquet' # path to your data .csv file\n",
    "num_workers = 0 # number of workers for dataloader. 0 means using main process for data loading\n",
    "smiles_column = \"smiles\" # name of the column containing SMILES strings\n",
    "target_columns = np.arange(400,4002,2).astype(str) # list of names of the columns containing targets\n",
    "\n",
    "df_input = pd.read_parquet(input_path)"
   ]
  },
  {
   "cell_type": "code",
   "execution_count": 5,
   "metadata": {},
   "outputs": [],
   "source": [
    "nist_test_path = r\"C:\\Users\\rhys-\\OneDrive\\Documents\\Github\\thesis_results\\data\\nist\\nist_test.parquet\"\n",
    "\n",
    "nist_test_df = pd.read_parquet(nist_test_path)\n",
    "\n",
    "test_datapoints = get_mol_datapoints(nist_test_df, smiles_column, target_columns)\n",
    "\n",
    "test_dset = data.MoleculeDataset(test_datapoints, featurizers.SimpleMoleculeMolGraphFeaturizer())\n",
    "\n",
    "test_loader = data.MolGraphDataLoader(test_dset, num_workers=num_workers)\n"
   ]
  },
  {
   "cell_type": "code",
   "execution_count": 7,
   "metadata": {},
   "outputs": [],
   "source": [
    "datapoints = get_mol_datapoints(df_input, smiles_column, target_columns)\n",
    "\n",
    "train_idx, val_idx, test_idx = data.splitting.split_data(\n",
    "    datapoints,\n",
    "    num_folds=8,\n",
    "    split='cv',\n",
    ")\n",
    "\n",
    "train_1 = [datapoints[i] for i in train_idx[0]]\n",
    "val_1 = [datapoints[i] for i in val_idx[0]]\n",
    "test_1 = [datapoints[i] for i in test_idx[0]]\n",
    "\n",
    "train_2 = [datapoints[i] for i in train_idx[1]]\n",
    "val_2 = [datapoints[i] for i in val_idx[1]]\n",
    "test_2 = [datapoints[i] for i in test_idx[1]]\n",
    "\n",
    "train_3 = [datapoints[i] for i in train_idx[2]]\n",
    "val_3 = [datapoints[i] for i in val_idx[2]]\n",
    "test_3 = [datapoints[i] for i in test_idx[2]]\n",
    "\n",
    "train_4 = [datapoints[i] for i in train_idx[3]]\n",
    "val_4 = [datapoints[i] for i in val_idx[3]]\n",
    "test_4 = [datapoints[i] for i in test_idx[3]]\n",
    "\n",
    "train_5 = [datapoints[i] for i in train_idx[4]]\n",
    "val_5 = [datapoints[i] for i in val_idx[4]]\n",
    "test_5 = [datapoints[i] for i in test_idx[4]]\n",
    "\n",
    "train_6 = [datapoints[i] for i in train_idx[5]]\n",
    "val_6 = [datapoints[i] for i in val_idx[5]]\n",
    "test_6= [datapoints[i] for i in test_idx[5]]\n",
    "\n",
    "train_7 = [datapoints[i] for i in train_idx[6]]\n",
    "val_7 = [datapoints[i] for i in val_idx[6]]\n",
    "test_7 = [datapoints[i] for i in test_idx[6]]\n",
    "\n",
    "train_8 = [datapoints[i] for i in train_idx[7]]\n",
    "val_8 = [datapoints[i] for i in val_idx[7]]\n",
    "test_8 = [datapoints[i] for i in test_idx[7]]\n",
    "\n",
    "def create_data_loaders(train_data, val_data, test_data, num_workers=0):\n",
    "    featurizer = featurizers.SimpleMoleculeMolGraphFeaturizer()\n",
    "\n",
    "    train_dset = data.MoleculeDataset(train_data, featurizer)\n",
    "    val_dset = data.MoleculeDataset(val_data, featurizer)\n",
    "    test_dset = data.MoleculeDataset(test_data, featurizer)\n",
    "\n",
    "    train_loader = data.MolGraphDataLoader(train_dset, num_workers=num_workers)\n",
    "    val_loader = data.MolGraphDataLoader(val_dset, num_workers=num_workers, shuffle=False)\n",
    "    test_loader = data.MolGraphDataLoader(test_dset, num_workers=num_workers, shuffle=False)\n",
    "\n",
    "    return train_loader, val_loader, test_loader\n",
    "\n",
    "train_loader_1, val_loader_1, test_loader_1 = create_data_loaders(train_1, val_1, test_1, num_workers)\n",
    "# train_loader_2, val_loader_2, test_loader_2 = create_data_loaders(train_2, val_2, test_2, num_workers)\n",
    "# train_loader_3, val_loader_3, test_loader_3 = create_data_loaders(train_3, val_3, test_3, num_workers)\n",
    "# train_loader_4, val_loader_4, test_loader_4 = create_data_loaders(train_4, val_4, test_4, num_workers)\n",
    "# train_loader_5, val_loader_5, test_loader_5 = create_data_loaders(train_5, val_5, test_5, num_workers)\n",
    "# train_loader_6, val_loader_6, test_loader_6 = create_data_loaders(train_6, val_6, test_6, num_workers)\n",
    "# train_loader_7, val_loader_7, test_loader_7 = create_data_loaders(train_7, val_7, test_7, num_workers)\n",
    "# train_loader_8, val_loader_8, test_loader_8 = create_data_loaders(train_8, val_8, test_8, num_workers)\n"
   ]
  },
  {
   "cell_type": "code",
   "execution_count": 8,
   "metadata": {},
   "outputs": [],
   "source": [
    "def create_rndm_loader(test_data):\n",
    "    featurizer = featurizers.SimpleMoleculeMolGraphFeaturizer()\n",
    "\n",
    "\n",
    "    test_dset = data.MoleculeDataset(test_data, featurizer)\n",
    "\n",
    "    return data.MolGraphDataLoader(test_dset, num_workers=0)\n",
    "\n",
    "rndm_test_loader = create_rndm_loader(test_1[:700])"
   ]
  },
  {
   "cell_type": "code",
   "execution_count": 9,
   "metadata": {},
   "outputs": [],
   "source": [
    "def create_model(metric: str, agg: str = 'mean'):\n",
    "    mp = nn.BondMessagePassing(\n",
    "    depth = 6,\n",
    "    d_h = 2200,\n",
    "    dropout=0.05,\n",
    "    # activation='SILU'\n",
    ")\n",
    "    if agg == 'mean':\n",
    "        agg = nn.MeanAggregation(\n",
    "\n",
    "        )\n",
    "\n",
    "    elif agg == 'attentive':\n",
    "        agg = nn.AttentiveAggregation(\n",
    "            output_size=2200,\n",
    "        )\n",
    "\n",
    "    elif agg == 'sum': \n",
    "        agg = nn.SumAggregation(\n",
    "        )\n",
    "    else:\n",
    "        raise ValueError(f'Invalid aggregation: {agg}')\n",
    "\n",
    "    # agg = nn.AttentiveAggregation(\n",
    "    #     output_size=2200,\n",
    "    # )\n",
    "\n",
    "    ffn = nn.RegressionFFN(\n",
    "        input_dim=2200,\n",
    "        n_layers=6,\n",
    "        hidden_dim=2200,\n",
    "        dropout=0.05,\n",
    "        # activation='SILU',\n",
    "        # loc=scaler.mean_, # pass in the mean of the training targets\n",
    "        # scale=scaler.scale_,\n",
    "        n_tasks=1801 # pass in the scale of the training targets\n",
    "    )\n",
    "    batch_norm=False\n",
    "    if metric == 'rmse':\n",
    "        metric_list = [nn.RMSEMetric()]\n",
    "    elif metric == 'sid':\n",
    "        metric_list = [nn.SIDMetric(), nn.RMSEMetric()]\n",
    "\n",
    "    else:\n",
    "        raise ValueError(f'Invalid metric: {metric}')\n",
    "    return models.MPNN(mp, agg, ffn, batch_norm, metrics=metric_list)\n",
    "\n",
    "mean_mpnn = create_model('rmse', 'mean')\n",
    "attentive_mpnn = create_model('rmse', 'attentive')\n",
    "sum_mpnn = create_model('rmse', 'sum')\n"
   ]
  },
  {
   "cell_type": "code",
   "execution_count": 10,
   "metadata": {},
   "outputs": [
    {
     "name": "stderr",
     "output_type": "stream",
     "text": [
      "Using bfloat16 Automatic Mixed Precision (AMP)\n",
      "GPU available: True (cuda), used: True\n",
      "TPU available: False, using: 0 TPU cores\n",
      "IPU available: False, using: 0 IPUs\n",
      "HPU available: False, using: 0 HPUs\n",
      "c:\\Users\\rhys-\\miniconda3\\envs\\cp3\\Lib\\site-packages\\lightning\\pytorch\\trainer\\connectors\\logger_connector\\logger_connector.py:75: Starting from v1.9.0, `tensorboardX` has been removed as a dependency of the `lightning.pytorch` package, due to potential conflicts with other packages in the ML ecosystem. For this reason, `logger=True` will use `CSVLogger` as the default logger, unless the `tensorboard` or `tensorboardX` packages are found. Please `pip install lightning[extra]` or one of them to enable TensorBoard support by default\n",
      "Using bfloat16 Automatic Mixed Precision (AMP)\n",
      "GPU available: True (cuda), used: True\n",
      "TPU available: False, using: 0 TPU cores\n",
      "IPU available: False, using: 0 IPUs\n",
      "HPU available: False, using: 0 HPUs\n",
      "Using bfloat16 Automatic Mixed Precision (AMP)\n",
      "GPU available: True (cuda), used: True\n",
      "TPU available: False, using: 0 TPU cores\n",
      "IPU available: False, using: 0 IPUs\n",
      "HPU available: False, using: 0 HPUs\n",
      "Using bfloat16 Automatic Mixed Precision (AMP)\n",
      "GPU available: True (cuda), used: True\n",
      "TPU available: False, using: 0 TPU cores\n",
      "IPU available: False, using: 0 IPUs\n",
      "HPU available: False, using: 0 HPUs\n",
      "Using bfloat16 Automatic Mixed Precision (AMP)\n",
      "GPU available: True (cuda), used: True\n",
      "TPU available: False, using: 0 TPU cores\n",
      "IPU available: False, using: 0 IPUs\n",
      "HPU available: False, using: 0 HPUs\n",
      "Using bfloat16 Automatic Mixed Precision (AMP)\n",
      "GPU available: True (cuda), used: True\n",
      "TPU available: False, using: 0 TPU cores\n",
      "IPU available: False, using: 0 IPUs\n",
      "HPU available: False, using: 0 HPUs\n",
      "Using bfloat16 Automatic Mixed Precision (AMP)\n",
      "GPU available: True (cuda), used: True\n",
      "TPU available: False, using: 0 TPU cores\n",
      "IPU available: False, using: 0 IPUs\n",
      "HPU available: False, using: 0 HPUs\n",
      "Using bfloat16 Automatic Mixed Precision (AMP)\n",
      "GPU available: True (cuda), used: True\n",
      "TPU available: False, using: 0 TPU cores\n",
      "IPU available: False, using: 0 IPUs\n",
      "HPU available: False, using: 0 HPUs\n"
     ]
    }
   ],
   "source": [
    "class MetricTracker(pl.Callback):\n",
    "    def __init__(self):\n",
    "        self.metrics = []\n",
    "\n",
    "    def on_validation_end(self, trainer, pl_module):\n",
    "        self.metrics.append(trainer.callback_metrics)\n",
    "\n",
    "    def save_metrics(self, file_path):\n",
    "        metrics_dict = {}\n",
    "        for metric_dict in self.metrics:\n",
    "            for key, value in metric_dict.items():\n",
    "                if key not in metrics_dict:\n",
    "                    metrics_dict[key] = []\n",
    "                metrics_dict[key].append(value.item())\n",
    "\n",
    "        with open(file_path, 'w') as file:\n",
    "            for key, values in metrics_dict.items():\n",
    "                file.write(f\"{key}: {values}\\n\")\n",
    "\n",
    "metric_tracker = MetricTracker()\n",
    "\n",
    "early_stop_callback = pl.callbacks.EarlyStopping(\n",
    "    monitor='val_loss',  # Specify the metric to monitor\n",
    "    min_delta=0.00,  # Minimum change in the monitored metric needed to qualify as an improvement\n",
    "    patience=3,  # Number of epochs with no improvement after which training will be stopped\n",
    "    verbose=False,  # Whether to print messages when early stopping is triggered\n",
    "    mode='min'  # Whether the monitored metric should be minimized or maximized\n",
    ")\n",
    "\n",
    "\n",
    "\n",
    "\n",
    "trainer_1 = pl.Trainer(\n",
    "    precision='bf16-mixed',\n",
    "    logger=True,\n",
    "    enable_checkpointing=False, # Use `True` if you want to save model checkpoints. The checkpoints will be saved in the `checkpoints` folder.\n",
    "    enable_progress_bar=True,\n",
    "    accelerator=\"auto\",\n",
    "    devices=1,\n",
    "    max_epochs=6, # number of epochs to train for\n",
    "    # callbacks=[metric_tracker, early_stop_callback]\n",
    ")\n",
    "\n",
    "trainer_2 = pl.Trainer(\n",
    "    precision='bf16-mixed',\n",
    "    logger=True,\n",
    "    enable_checkpointing=False, # Use `True` if you want to save model checkpoints. The checkpoints will be saved in the `checkpoints` folder.\n",
    "    enable_progress_bar=True,\n",
    "    accelerator=\"auto\",\n",
    "    devices=1,\n",
    "    max_epochs=6, # number of epochs to train for\n",
    ")\n",
    "\n",
    "trainer_3 = pl.Trainer(\n",
    "    precision='bf16-mixed',\n",
    "    logger=True,\n",
    "    enable_checkpointing=False, # Use `True` if you want to save model checkpoints. The checkpoints will be saved in the `checkpoints` folder.\n",
    "    enable_progress_bar=True,\n",
    "    accelerator=\"auto\",\n",
    "    devices=1,\n",
    "    max_epochs=6, # number of epochs to train for\n",
    "    # callbacks=[metric_tracker, early_stop_callback]\n",
    ")\n",
    "\n",
    "trainer_4 = pl.Trainer(\n",
    "    precision='bf16-mixed',\n",
    "    logger=True,\n",
    "    enable_checkpointing=False, # Use `True` if you want to save model checkpoints. The checkpoints will be saved in the `checkpoints` folder.\n",
    "    enable_progress_bar=True,\n",
    "    accelerator=\"auto\",\n",
    "    devices=1,\n",
    "    max_epochs=6, # number of epochs to train for\n",
    ")\n",
    "\n",
    "trainer_5 = pl.Trainer(\n",
    "    precision='bf16-mixed',\n",
    "    logger=True,\n",
    "    enable_checkpointing=False, # Use `True` if you want to save model checkpoints. The checkpoints will be saved in the `checkpoints` folder.\n",
    "    enable_progress_bar=True,\n",
    "    accelerator=\"auto\",\n",
    "    devices=1,\n",
    "    max_epochs=6, # number of epochs to train for\n",
    "    # callbacks=[metric_tracker, early_stop_callback]\n",
    ")\n",
    "\n",
    "trainer_6 = pl.Trainer(\n",
    "    precision='bf16-mixed',\n",
    "    logger=True,\n",
    "    enable_checkpointing=False, # Use `True` if you want to save model checkpoints. The checkpoints will be saved in the `checkpoints` folder.\n",
    "    enable_progress_bar=True,\n",
    "    accelerator=\"auto\",\n",
    "    devices=1,\n",
    "    max_epochs=6, # number of epochs to train for\n",
    ")\n",
    "\n",
    "trainer_7 = pl.Trainer(\n",
    "    precision='bf16-mixed',\n",
    "    logger=True,\n",
    "    enable_checkpointing=False, # Use `True` if you want to save model checkpoints. The checkpoints will be saved in the `checkpoints` folder.\n",
    "    enable_progress_bar=True,\n",
    "    accelerator=\"auto\",\n",
    "    devices=1,\n",
    "    max_epochs=6, # number of epochs to train for\n",
    ")\n",
    "\n",
    "trainer_8 = pl.Trainer(\n",
    "    precision='bf16-mixed',\n",
    "    logger=True,\n",
    "    enable_checkpointing=False, # Use `True` if you want to save model checkpoints. The checkpoints will be saved in the `checkpoints` folder.\n",
    "    enable_progress_bar=True,\n",
    "    accelerator=\"auto\",\n",
    "    devices=1,\n",
    "    max_epochs=6, # number of epochs to train for\n",
    ")\n",
    "\n",
    "\n"
   ]
  },
  {
   "cell_type": "code",
   "execution_count": 11,
   "metadata": {},
   "outputs": [
    {
     "name": "stderr",
     "output_type": "stream",
     "text": [
      "LOCAL_RANK: 0 - CUDA_VISIBLE_DEVICES: [0]\n",
      "Loading `train_dataloader` to estimate number of stepping batches.\n",
      "c:\\Users\\rhys-\\miniconda3\\envs\\cp3\\Lib\\site-packages\\lightning\\pytorch\\trainer\\connectors\\data_connector.py:441: The 'train_dataloader' does not have many workers which may be a bottleneck. Consider increasing the value of the `num_workers` argument` to `num_workers=11` in the `DataLoader` to improve performance.\n",
      "\n",
      "  | Name            | Type               | Params\n",
      "-------------------------------------------------------\n",
      "0 | message_passing | BondMessagePassing | 10.3 M\n",
      "1 | agg             | MeanAggregation    | 0     \n",
      "2 | bn              | Identity           | 0     \n",
      "3 | predictor       | RegressionFFN      | 33.0 M\n",
      "  | other params    | n/a                | 1.8 K \n",
      "-------------------------------------------------------\n",
      "43.3 M    Trainable params\n",
      "1.8 K     Non-trainable params\n",
      "43.3 M    Total params\n",
      "173.269   Total estimated model params size (MB)\n"
     ]
    },
    {
     "name": "stdout",
     "output_type": "stream",
     "text": [
      "Sanity Checking DataLoader 0:   0%|          | 0/2 [00:00<?, ?it/s]"
     ]
    },
    {
     "name": "stderr",
     "output_type": "stream",
     "text": [
      "c:\\Users\\rhys-\\miniconda3\\envs\\cp3\\Lib\\site-packages\\lightning\\pytorch\\trainer\\connectors\\data_connector.py:441: The 'val_dataloader' does not have many workers which may be a bottleneck. Consider increasing the value of the `num_workers` argument` to `num_workers=11` in the `DataLoader` to improve performance.\n"
     ]
    },
    {
     "name": "stdout",
     "output_type": "stream",
     "text": [
      "Epoch 5: 100%|██████████| 1948/1948 [01:15<00:00, 25.83it/s, v_num=34, train/loss=0.00337, val_loss=0.058] "
     ]
    },
    {
     "name": "stderr",
     "output_type": "stream",
     "text": [
      "`Trainer.fit` stopped: `max_epochs=6` reached.\n"
     ]
    },
    {
     "name": "stdout",
     "output_type": "stream",
     "text": [
      "Epoch 5: 100%|██████████| 1948/1948 [01:15<00:00, 25.83it/s, v_num=34, train/loss=0.00337, val_loss=0.058]\n"
     ]
    },
    {
     "name": "stderr",
     "output_type": "stream",
     "text": [
      "LOCAL_RANK: 0 - CUDA_VISIBLE_DEVICES: [0]\n",
      "Loading `train_dataloader` to estimate number of stepping batches.\n",
      "\n",
      "  | Name            | Type               | Params\n",
      "-------------------------------------------------------\n",
      "0 | message_passing | BondMessagePassing | 10.3 M\n",
      "1 | agg             | SumAggregation     | 0     \n",
      "2 | bn              | Identity           | 0     \n",
      "3 | predictor       | RegressionFFN      | 33.0 M\n",
      "  | other params    | n/a                | 1.8 K \n",
      "-------------------------------------------------------\n",
      "43.3 M    Trainable params\n",
      "1.8 K     Non-trainable params\n",
      "43.3 M    Total params\n",
      "173.269   Total estimated model params size (MB)\n"
     ]
    },
    {
     "name": "stdout",
     "output_type": "stream",
     "text": [
      "sum mpnn\n",
      "Epoch 5: 100%|██████████| 1948/1948 [01:12<00:00, 26.94it/s, v_num=35, train/loss=0.00387, val_loss=0.0575]"
     ]
    },
    {
     "name": "stderr",
     "output_type": "stream",
     "text": [
      "`Trainer.fit` stopped: `max_epochs=6` reached.\n"
     ]
    },
    {
     "name": "stdout",
     "output_type": "stream",
     "text": [
      "Epoch 5: 100%|██████████| 1948/1948 [01:12<00:00, 26.94it/s, v_num=35, train/loss=0.00387, val_loss=0.0575]\n"
     ]
    },
    {
     "name": "stderr",
     "output_type": "stream",
     "text": [
      "LOCAL_RANK: 0 - CUDA_VISIBLE_DEVICES: [0]\n",
      "Loading `train_dataloader` to estimate number of stepping batches.\n",
      "\n",
      "  | Name            | Type                 | Params\n",
      "---------------------------------------------------------\n",
      "0 | message_passing | BondMessagePassing   | 10.3 M\n",
      "1 | agg             | AttentiveAggregation | 2.2 K \n",
      "2 | bn              | Identity             | 0     \n",
      "3 | predictor       | RegressionFFN        | 33.0 M\n",
      "  | other params    | n/a                  | 1.8 K \n",
      "---------------------------------------------------------\n",
      "43.3 M    Trainable params\n",
      "1.8 K     Non-trainable params\n",
      "43.3 M    Total params\n",
      "173.278   Total estimated model params size (MB)\n"
     ]
    },
    {
     "name": "stdout",
     "output_type": "stream",
     "text": [
      "att mpnn\n",
      "Epoch 5: 100%|██████████| 1948/1948 [01:15<00:00, 25.86it/s, v_num=36, train/loss=0.00329, val_loss=0.0576]"
     ]
    },
    {
     "name": "stderr",
     "output_type": "stream",
     "text": [
      "`Trainer.fit` stopped: `max_epochs=6` reached.\n"
     ]
    },
    {
     "name": "stdout",
     "output_type": "stream",
     "text": [
      "Epoch 5: 100%|██████████| 1948/1948 [01:15<00:00, 25.86it/s, v_num=36, train/loss=0.00329, val_loss=0.0576]\n"
     ]
    }
   ],
   "source": [
    "trainer_1.fit(mean_mpnn, train_loader_1, val_loader_1)\n",
    "\n",
    "print(\"sum mpnn\")\n",
    "trainer_2.fit(sum_mpnn, train_loader_1, val_loader_1)\n",
    "\n",
    "print(\"att mpnn\")\n",
    "\n",
    "trainer_3.fit(attentive_mpnn, train_loader_1, val_loader_1)\n",
    "\n"
   ]
  },
  {
   "cell_type": "code",
   "execution_count": 12,
   "metadata": {},
   "outputs": [
    {
     "name": "stderr",
     "output_type": "stream",
     "text": [
      "LOCAL_RANK: 0 - CUDA_VISIBLE_DEVICES: [0]\n",
      "c:\\Users\\rhys-\\miniconda3\\envs\\cp3\\Lib\\site-packages\\lightning\\pytorch\\trainer\\connectors\\data_connector.py:441: The 'predict_dataloader' does not have many workers which may be a bottleneck. Consider increasing the value of the `num_workers` argument` to `num_workers=11` in the `DataLoader` to improve performance.\n"
     ]
    },
    {
     "name": "stdout",
     "output_type": "stream",
     "text": [
      "Predicting DataLoader 0: 100%|██████████| 16228/16228 [01:33<00:00, 172.72it/s]\n"
     ]
    },
    {
     "name": "stderr",
     "output_type": "stream",
     "text": [
      "LOCAL_RANK: 0 - CUDA_VISIBLE_DEVICES: [0]\n"
     ]
    },
    {
     "name": "stdout",
     "output_type": "stream",
     "text": [
      "Predicting DataLoader 0: 100%|██████████| 16228/16228 [01:26<00:00, 187.64it/s]\n"
     ]
    },
    {
     "name": "stderr",
     "output_type": "stream",
     "text": [
      "LOCAL_RANK: 0 - CUDA_VISIBLE_DEVICES: [0]\n"
     ]
    },
    {
     "name": "stdout",
     "output_type": "stream",
     "text": [
      "Predicting DataLoader 0: 100%|██████████| 16228/16228 [01:39<00:00, 163.45it/s]\n"
     ]
    }
   ],
   "source": [
    "mean_preds = trainer_1.predict(mean_mpnn, test_loader)\n",
    "sum_preds = trainer_2.predict(sum_mpnn, test_loader)\n",
    "att_preds = trainer_3.predict(attentive_mpnn, test_loader)\n",
    "\n",
    "# convert preds to float32\n",
    "mean_preds = [pred.float() for pred in mean_preds]\n",
    "sum_preds = [pred.float() for pred in sum_preds]\n",
    "att_preds = [pred.float() for pred in att_preds]\n",
    "\n",
    "\n"
   ]
  },
  {
   "cell_type": "code",
   "execution_count": 17,
   "metadata": {},
   "outputs": [
    {
     "name": "stdout",
     "output_type": "stream",
     "text": [
      "Mean RMSE: 0.056471404680500346\n",
      "Sum RMSE: 0.05575239482459894\n",
      "Attentive RMSE: 0.05603372458709688\n"
     ]
    }
   ],
   "source": [
    "import numpy as np\n",
    "\n",
    "def calculate_rmse(predicted_spectra, reference_spectra):\n",
    "    if len(predicted_spectra) != len(reference_spectra):\n",
    "        print(len(predicted_spectra), len(reference_spectra))\n",
    "        raise ValueError(\"Length of predicted and reference spectra lists should be the same.\")\n",
    "\n",
    "    rmse_values = []\n",
    "\n",
    "    for i in range(len(predicted_spectra)):\n",
    "        predicted = np.array(predicted_spectra[i]).squeeze()\n",
    "        reference = np.array(reference_spectra[i]).squeeze()\n",
    "\n",
    "        if len(predicted) != len(reference):\n",
    "            print(len(predicted), len(reference))\n",
    "            raise ValueError(f\"Length of predicted and reference spectra at index {i} should be the same.\")\n",
    "\n",
    "        mse = np.mean((predicted - reference) ** 2)\n",
    "        rmse = np.sqrt(mse)\n",
    "        rmse_values.append(rmse)\n",
    "\n",
    "    return rmse_values\n",
    "\n",
    "# mean_rmse = calculate_rmse(mean_preds, test_1[:700])\n",
    "# sum_rmse = calculate_rmse(sum_preds, test_1[:700])\n",
    "# att_rmse = calculate_rmse(att_preds, test_1[:700])\n",
    "\n",
    "mean_rmse = calculate_rmse(mean_preds, df_input.iloc[test_idx[0], :-1].values)\n",
    "sum_rmse = calculate_rmse(sum_preds, df_input.iloc[test_idx[0], :-1].values)\n",
    "att_rmse = calculate_rmse(att_preds, df_input.iloc[test_idx[0], :-1].values)\n",
    "\n",
    "print(f\"Mean RMSE: {np.mean(mean_rmse)}\")\n",
    "print(f\"Sum RMSE: {np.mean(sum_rmse)}\")\n",
    "\n",
    "print(f\"Attentive RMSE: {np.mean(att_rmse)}\")\n"
   ]
  },
  {
   "cell_type": "code",
   "execution_count": 20,
   "metadata": {},
   "outputs": [
    {
     "data": {
      "image/png": "[encoded data removed]",
      "text/plain": [
       "<Figure size 640x480 with 1 Axes>"
      ]
     },
     "metadata": {},
     "output_type": "display_data"
    }
   ],
   "source": [
    "# # plot histogram of RMSE values\n",
    "# plt.hist(mean_rmse, bins=50, alpha=0.5, label='Mean')\n",
    "# plt.hist(sum_rmse, bins=50, alpha=0.5, label='Sum')\n",
    "# plt.hist(att_rmse, bins=50, alpha=0.5, label='Attentive')\n",
    "# plt.legend()\n",
    "# plt.show()\n",
    "\n",
    "# add axis labels\n",
    "plt.hist(mean_rmse, bins=50, alpha=0.5, label='Mean')\n",
    "plt.hist(sum_rmse, bins=50, alpha=0.5, label='Sum')\n",
    "plt.hist(att_rmse, bins=50, alpha=0.5, label='Attentive')\n",
    "plt.xlabel('RMSE')\n",
    "\n",
    "plt.ylabel('Frequency')\n",
    "plt.legend()\n",
    "plt.show()"
   ]
  },
  {
   "cell_type": "code",
   "execution_count": 57,
   "metadata": {},
   "outputs": [],
   "source": [
    "def calculate_sis(predicted_spectra, reference_spectra):\n",
    "    if len(predicted_spectra) != len(reference_spectra):\n",
    "        print(len(predicted_spectra), len(reference_spectra))\n",
    "        raise ValueError(\"Length of predicted and reference spectra lists should be the same.\")\n",
    "\n",
    "    sis_values = []\n",
    "\n",
    "    for i in range(len(predicted_spectra)):\n",
    "        predicted = np.array(predicted_spectra[i]).squeeze()\n",
    "        reference = np.array(reference_spectra[i]).squeeze()\n",
    "\n",
    "        if len(predicted) != len(reference):\n",
    "            print(len(predicted), len(reference))\n",
    "            raise ValueError(f\"Length of predicted and reference spectra at index {i} should be the same.\")\n",
    "\n",
    "        # Set any negative values to zero\n",
    "        predicted[predicted < 0] = 0\n",
    "        reference[reference < 0] = 0\n",
    "\n",
    "        # Add a small constant to avoid taking log of zero\n",
    "        epsilon = 1e-10\n",
    "        predicted += epsilon\n",
    "        reference += epsilon\n",
    "\n",
    "        # Ensure the spectra are normalized\n",
    "        predicted = predicted / np.sum(predicted)\n",
    "        reference = reference / np.sum(reference)\n",
    "\n",
    "        # Check for negative values\n",
    "        if np.any(predicted < 0) or np.any(reference < 0):\n",
    "            raise ValueError(\"Spectra contain negative values\")\n",
    "\n",
    "        # Check for zero values\n",
    "        if np.any(predicted == 0) or np.any(reference == 0):\n",
    "            raise ValueError(\"Spectra contain zero values\")\n",
    "\n",
    "        # Calculate the SID\n",
    "        sid = np.sum(predicted * np.log(predicted / reference)) + np.sum(reference * np.log(reference / predicted))\n",
    "\n",
    "        # Calculate the SIS\n",
    "        sis = 1 / (1 + sid)\n",
    "        sis_values.append(sis)\n",
    "\n",
    "    return sis_values\n",
    "\n",
    "ensemble_sis = calculate_sis(ensemble_preds, list(nist_test_df.iloc[:, :-1].values))\n",
    "\n",
    "single_model_sis = calculate_sis(model_1_preds, list(nist_test_df.iloc[:, :-1].values))"
   ]
  },
  {
   "cell_type": "code",
   "execution_count": 58,
   "metadata": {},
   "outputs": [
    {
     "data": {
      "image/png": "[encoded data removed]",
      "text/plain": [
       "<Figure size 640x480 with 1 Axes>"
      ]
     },
     "metadata": {},
     "output_type": "display_data"
    }
   ],
   "source": [
    "plt.hist(ensemble_rmse, bins=50, label='Ensemble')\n",
    "plt.hist(single_model_rmse, bins=50, label='Single Model')\n",
    "plt.xlabel('RMSE')\n",
    "plt.ylabel('Frequency')\n",
    "plt.title('RMSE Distribution')\n",
    "plt.legend()\n",
    "plt.show()\n",
    "\n",
    "\n"
   ]
  },
  {
   "cell_type": "code",
   "execution_count": 59,
   "metadata": {},
   "outputs": [
    {
     "data": {
      "image/png": "[encoded data removed]",
      "text/plain": [
       "<Figure size 640x480 with 1 Axes>"
      ]
     },
     "metadata": {},
     "output_type": "display_data"
    }
   ],
   "source": [
    "plt.hist(ensemble_sis, bins=50, label='Ensemble')\n",
    "plt.hist(single_model_sis, bins=50, label='Single Model')\n",
    "plt.xlabel('SIS')\n",
    "plt.ylabel('Frequency')\n",
    "plt.title('SIS Distribution')\n",
    "plt.legend()\n",
    "plt.show()\n"
   ]
  },
  {
   "cell_type": "code",
   "execution_count": 60,
   "metadata": {},
   "outputs": [
    {
     "data": {
      "text/plain": [
       "700"
      ]
     },
     "execution_count": 60,
     "metadata": {},
     "output_type": "execute_result"
    }
   ],
   "source": [
    "len(rndm_test_loader.dataset)"
   ]
  },
  {
   "cell_type": "code",
   "execution_count": 61,
   "metadata": {},
   "outputs": [],
   "source": [
    "test_spec = []\n",
    "\n",
    "for i, data in enumerate(rndm_test_loader.dataset):\n",
    "    test_spec.append(data.y)\n",
    "\n",
    "test_spec = [np.array(spec).squeeze() for spec in test_spec]\n",
    "\n"
   ]
  },
  {
   "cell_type": "code",
   "execution_count": 62,
   "metadata": {},
   "outputs": [
    {
     "data": {
      "text/plain": [
       "700"
      ]
     },
     "execution_count": 62,
     "metadata": {},
     "output_type": "execute_result"
    }
   ],
   "source": [
    "len(test_spec)"
   ]
  },
  {
   "cell_type": "code",
   "execution_count": 63,
   "metadata": {},
   "outputs": [
    {
     "name": "stderr",
     "output_type": "stream",
     "text": [
      "LOCAL_RANK: 0 - CUDA_VISIBLE_DEVICES: [0]\n"
     ]
    },
    {
     "name": "stdout",
     "output_type": "stream",
     "text": [
      "Predicting DataLoader 0: 100%|██████████| 700/700 [00:03<00:00, 195.32it/s]\n"
     ]
    },
    {
     "name": "stderr",
     "output_type": "stream",
     "text": [
      "LOCAL_RANK: 0 - CUDA_VISIBLE_DEVICES: [0]\n"
     ]
    },
    {
     "name": "stdout",
     "output_type": "stream",
     "text": [
      "Predicting DataLoader 0: 100%|██████████| 700/700 [00:04<00:00, 159.54it/s]\n"
     ]
    },
    {
     "name": "stderr",
     "output_type": "stream",
     "text": [
      "LOCAL_RANK: 0 - CUDA_VISIBLE_DEVICES: [0]\n"
     ]
    },
    {
     "name": "stdout",
     "output_type": "stream",
     "text": [
      "Predicting DataLoader 0: 100%|██████████| 700/700 [00:03<00:00, 206.12it/s]\n"
     ]
    },
    {
     "name": "stderr",
     "output_type": "stream",
     "text": [
      "LOCAL_RANK: 0 - CUDA_VISIBLE_DEVICES: [0]\n"
     ]
    },
    {
     "name": "stdout",
     "output_type": "stream",
     "text": [
      "Predicting DataLoader 0: 100%|██████████| 700/700 [00:04<00:00, 171.17it/s]\n"
     ]
    },
    {
     "name": "stderr",
     "output_type": "stream",
     "text": [
      "LOCAL_RANK: 0 - CUDA_VISIBLE_DEVICES: [0]\n"
     ]
    },
    {
     "name": "stdout",
     "output_type": "stream",
     "text": [
      "Predicting DataLoader 0: 100%|██████████| 700/700 [00:03<00:00, 188.36it/s]\n"
     ]
    },
    {
     "name": "stderr",
     "output_type": "stream",
     "text": [
      "LOCAL_RANK: 0 - CUDA_VISIBLE_DEVICES: [0]\n"
     ]
    },
    {
     "name": "stdout",
     "output_type": "stream",
     "text": [
      "Predicting DataLoader 0: 100%|██████████| 700/700 [00:04<00:00, 165.53it/s]\n"
     ]
    },
    {
     "name": "stderr",
     "output_type": "stream",
     "text": [
      "LOCAL_RANK: 0 - CUDA_VISIBLE_DEVICES: [0]\n"
     ]
    },
    {
     "name": "stdout",
     "output_type": "stream",
     "text": [
      "Predicting DataLoader 0: 100%|██████████| 700/700 [00:03<00:00, 189.78it/s]\n"
     ]
    },
    {
     "name": "stderr",
     "output_type": "stream",
     "text": [
      "LOCAL_RANK: 0 - CUDA_VISIBLE_DEVICES: [0]\n"
     ]
    },
    {
     "name": "stdout",
     "output_type": "stream",
     "text": [
      "Predicting DataLoader 0: 100%|██████████| 700/700 [00:04<00:00, 158.46it/s]\n"
     ]
    }
   ],
   "source": [
    "model_1_preds_rs = trainer_1.predict(mpnn1, rndm_test_loader)\n",
    "model_2_preds_rs = trainer_2.predict(mpnn2, rndm_test_loader)\n",
    "model_3_preds_rs = trainer_3.predict(mpnn3, rndm_test_loader)\n",
    "model_4_preds_rs = trainer_4.predict(mpnn4, rndm_test_loader)\n",
    "model_5_preds_rs = trainer_5.predict(mpnn5, rndm_test_loader)\n",
    "model_6_preds_rs = trainer_6.predict(mpnn6, rndm_test_loader)\n",
    "model_7_preds_rs = trainer_7.predict(mpnn7, rndm_test_loader)\n",
    "model_8_preds_rs = trainer_8.predict(mpnn8, rndm_test_loader)\n",
    "\n",
    "ensemble_preds_rs = [torch.mean(torch.stack(preds), dim=0) for preds in zip(model_1_preds_rs, model_2_preds_rs, model_3_preds_rs, model_4_preds_rs, model_5_preds_rs, model_6_preds_rs, model_7_preds_rs, model_8_preds_rs)]\n"
   ]
  },
  {
   "cell_type": "code",
   "execution_count": 64,
   "metadata": {},
   "outputs": [
    {
     "data": {
      "image/png": "[encoded data removed]",
      "text/plain": [
       "<Figure size 640x480 with 1 Axes>"
      ]
     },
     "metadata": {},
     "output_type": "display_data"
    }
   ],
   "source": [
    "# convert preds to float\n",
    "model_1_preds_rs = [pred.float() for pred in model_1_preds_rs]\n",
    "model_2_preds_rs = [pred.float() for pred in model_2_preds_rs]\n",
    "model_3_preds_rs = [pred.float() for pred in model_3_preds_rs]\n",
    "model_4_preds_rs = [pred.float() for pred in model_4_preds_rs]\n",
    "model_5_preds_rs = [pred.float() for pred in model_5_preds_rs]\n",
    "model_6_preds_rs = [pred.float() for pred in model_6_preds_rs]\n",
    "model_7_preds_rs = [pred.float() for pred in model_7_preds_rs]\n",
    "model_8_preds_rs = [pred.float() for pred in model_8_preds_rs]\n",
    "\n",
    "ensemble_preds_rs = [pred.float() for pred in ensemble_preds_rs]\n",
    "\n",
    "\n",
    "\n",
    "\n",
    "ensemble_rmse_rs = calculate_rmse(ensemble_preds_rs, list(test_spec))\n",
    "\n",
    "single_model_rmse_rs = calculate_rmse(model_1_preds_rs, list(test_spec))\n",
    "\n",
    "ensemble_sis_rs = calculate_sis(ensemble_preds_rs, list(test_spec))\n",
    "\n",
    "single_model_sis_rs = calculate_sis(model_1_preds_rs, list(test_spec))\n",
    "                                    \n",
    "plt.hist(ensemble_rmse_rs, bins=50, label='Ensemble')\n",
    "plt.hist(single_model_rmse_rs, bins=50, label='Single Model')\n",
    "plt.xlabel('RMSE')\n",
    "plt.ylabel('Frequency')\n",
    "plt.title('RMSE Distribution')\n",
    "plt.legend()\n",
    "plt.show()\n",
    "\n"
   ]
  },
  {
   "cell_type": "code",
   "execution_count": 65,
   "metadata": {},
   "outputs": [
    {
     "data": {
      "text/plain": [
       "(array([ 1.,  1.,  3.,  3.,  4.,  1.,  4.,  0.,  7.,  6.,  8., 13., 18.,\n",
       "         8., 16., 22., 30., 23., 24., 15., 27., 27., 18., 35., 27., 25.,\n",
       "        21., 25., 30., 30., 28., 21., 26., 26., 19., 18., 13., 13., 16.,\n",
       "         6.,  5., 11.,  5., 10.,  3.,  1.,  4.,  1.,  1.,  1.]),\n",
       " array([0.25598738, 0.26758736, 0.27918734, 0.29078732, 0.3023873 ,\n",
       "        0.31398728, 0.32558726, 0.33718724, 0.34878722, 0.3603872 ,\n",
       "        0.37198718, 0.38358716, 0.39518714, 0.40678712, 0.4183871 ,\n",
       "        0.42998708, 0.44158706, 0.45318704, 0.46478702, 0.47638699,\n",
       "        0.48798697, 0.49958695, 0.51118693, 0.52278691, 0.53438689,\n",
       "        0.54598687, 0.55758685, 0.56918683, 0.58078681, 0.59238679,\n",
       "        0.60398677, 0.61558675, 0.62718673, 0.63878671, 0.65038669,\n",
       "        0.66198667, 0.67358665, 0.68518663, 0.6967866 , 0.70838658,\n",
       "        0.71998656, 0.73158654, 0.74318652, 0.7547865 , 0.76638648,\n",
       "        0.77798646, 0.78958644, 0.80118642, 0.8127864 , 0.82438638,\n",
       "        0.83598636]),\n",
       " <BarContainer object of 50 artists>)"
      ]
     },
     "execution_count": 65,
     "metadata": {},
     "output_type": "execute_result"
    },
    {
     "data": {
      "image/png": "[encoded data removed]",
      "text/plain": [
       "<Figure size 640x480 with 1 Axes>"
      ]
     },
     "metadata": {},
     "output_type": "display_data"
    }
   ],
   "source": [
    "plt.hist(ensemble_sis_rs, bins=50, label='Ensemble')\n",
    "plt.hist(single_model_sis_rs, bins=50, label='Single Model')\n",
    "\n"
   ]
  },
  {
   "cell_type": "code",
   "execution_count": null,
   "metadata": {},
   "outputs": [],
   "source": []
  },
  {
   "cell_type": "code",
   "execution_count": null,
   "metadata": {},
   "outputs": [],
   "source": []
  }
 ],
 "metadata": {
  "kernelspec": {
   "display_name": "cp3",
   "language": "python",
   "name": "python3"
  },
  "language_info": {
   "codemirror_mode": {
    "name": "ipython",
    "version": 3
   },
   "file_extension": ".py",
   "mimetype": "text/x-python",
   "name": "python",
   "nbconvert_exporter": "python",
   "pygments_lexer": "ipython3",
   "version": "3.11.8"
  }
 },
 "nbformat": 4,
 "nbformat_minor": 2
}
