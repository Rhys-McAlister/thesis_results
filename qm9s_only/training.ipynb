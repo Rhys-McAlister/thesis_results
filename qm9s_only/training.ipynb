{
 "cells": [
  {
   "cell_type": "code",
   "execution_count": 2,
   "metadata": {},
   "outputs": [
    {
     "name": "stderr",
     "output_type": "stream",
     "text": [
      "Seed set to 1\n"
     ]
    }
   ],
   "source": [
    "import pandas as pd\n",
    "import numpy as np\n",
    "import matplotlib.pyplot as plt\n",
    "from lightning import pytorch as pl\n",
    "from sklearn.model_selection import train_test_split\n",
    "import torch\n",
    "torch.set_float32_matmul_precision('medium')\n",
    "from chemprop import data, featurizers, models, nn\n",
    "pl.seed_everything(1)\n",
    "# from data_utils import data_prep, prep_data, load_data, split_data, preprocess_data, create_data_loaders, create_mpnn_model\n",
    "%load_ext autoreload\n",
    "%autoreload 2"
   ]
  },
  {
   "cell_type": "code",
   "execution_count": 3,
   "metadata": {},
   "outputs": [],
   "source": [
    "# import pytorch_lightning as pl\n",
    "\n",
    "class MetricTracker(pl.Callback):\n",
    "    def __init__(self):\n",
    "        self.metrics = []\n",
    "\n",
    "    def on_validation_end(self, trainer, pl_module):\n",
    "        self.metrics.append(trainer.callback_metrics)\n",
    "\n",
    "    def save_metrics(self, file_path):\n",
    "        metrics_dict = {}\n",
    "        for metric_dict in self.metrics:\n",
    "            for key, value in metric_dict.items():\n",
    "                if key not in metrics_dict:\n",
    "                    metrics_dict[key] = []\n",
    "                metrics_dict[key].append(value.item())\n",
    "\n",
    "        with open(file_path, 'w') as file:\n",
    "            for key, values in metrics_dict.items():\n",
    "                file.write(f\"{key}: {values}\\n\")"
   ]
  },
  {
   "cell_type": "code",
   "execution_count": 4,
   "metadata": {},
   "outputs": [],
   "source": [
    "def get_mol_datapoints(df, smiles_column, target_columns):\n",
    "    smis = df.loc[:, smiles_column].values\n",
    "    ys = df.loc[:, target_columns].values\n",
    "    return [data.MoleculeDatapoint.from_smi(smi, y) for smi, y in zip(smis, ys)]\n",
    "\n",
    "def get_data_loader(df, smiles_column, target_columns, batch_size, num_workers):\n",
    "    data_points = get_mol_datapoints(df, smiles_column, target_columns)\n",
    "    featurizer = featurizers.SimpleMoleculeMolGraphFeaturizer()\n",
    "\n",
    "    dset = data.MoleculeDataset(data_points, featurizer)\n",
    "    return data.MolGraphDataLoader(dset, num_workers=num_workers)"
   ]
  },
  {
   "cell_type": "code",
   "execution_count": 5,
   "metadata": {},
   "outputs": [],
   "source": [
    "input_path = r'C:\\Users\\rhys-\\OneDrive\\Documents\\Github\\chemprop\\notebooks\\big_data\\data\\ir_dataset_minmax_scaled.parquet' # path to your data .csv file\n",
    "num_workers = 0 # number of workers for dataloader. 0 means using main process for data loading\n",
    "smiles_column = \"smiles\" # name of the column containing SMILES strings\n",
    "target_columns = np.arange(400,4002,2).astype(str) # list of names of the columns containing targets\n",
    "\n",
    "df_input = pd.read_parquet(input_path)"
   ]
  },
  {
   "cell_type": "code",
   "execution_count": 6,
   "metadata": {},
   "outputs": [],
   "source": [
    "nist_test_path = r\"C:\\Users\\rhys-\\OneDrive\\Documents\\Github\\thesis_results\\data\\nist\\nist_test.parquet\"\n",
    "\n",
    "nist_test_df = pd.read_parquet(nist_test_path)\n",
    "\n",
    "test_datapoints = get_mol_datapoints(nist_test_df, smiles_column, target_columns)\n",
    "\n",
    "test_dset = data.MoleculeDataset(test_datapoints, featurizers.SimpleMoleculeMolGraphFeaturizer())\n",
    "\n",
    "test_loader = data.MolGraphDataLoader(test_dset, num_workers=num_workers)\n"
   ]
  },
  {
   "cell_type": "code",
   "execution_count": 7,
   "metadata": {},
   "outputs": [],
   "source": [
    "datapoints = get_mol_datapoints(df_input, smiles_column, target_columns)\n",
    "\n",
    "train_idx, val_idx, test_idx = data.splitting.split_data(\n",
    "    datapoints,\n",
    "    num_folds=8,\n",
    "    split='cv',\n",
    ")\n",
    "\n",
    "train_1 = [datapoints[i] for i in train_idx[0]]\n",
    "val_1 = [datapoints[i] for i in val_idx[0]]\n",
    "test_1 = [datapoints[i] for i in test_idx[0]]\n",
    "\n",
    "train_2 = [datapoints[i] for i in train_idx[1]]\n",
    "val_2 = [datapoints[i] for i in val_idx[1]]\n",
    "test_2 = [datapoints[i] for i in test_idx[1]]\n",
    "\n",
    "train_3 = [datapoints[i] for i in train_idx[2]]\n",
    "val_3 = [datapoints[i] for i in val_idx[2]]\n",
    "test_3 = [datapoints[i] for i in test_idx[2]]\n",
    "\n",
    "train_4 = [datapoints[i] for i in train_idx[3]]\n",
    "val_4 = [datapoints[i] for i in val_idx[3]]\n",
    "test_4 = [datapoints[i] for i in test_idx[3]]\n",
    "\n",
    "train_5 = [datapoints[i] for i in train_idx[4]]\n",
    "val_5 = [datapoints[i] for i in val_idx[4]]\n",
    "test_5 = [datapoints[i] for i in test_idx[4]]\n",
    "\n",
    "train_6 = [datapoints[i] for i in train_idx[5]]\n",
    "val_6 = [datapoints[i] for i in val_idx[5]]\n",
    "test_6= [datapoints[i] for i in test_idx[5]]\n",
    "\n",
    "train_7 = [datapoints[i] for i in train_idx[6]]\n",
    "val_7 = [datapoints[i] for i in val_idx[6]]\n",
    "test_7 = [datapoints[i] for i in test_idx[6]]\n",
    "\n",
    "train_8 = [datapoints[i] for i in train_idx[7]]\n",
    "val_8 = [datapoints[i] for i in val_idx[7]]\n",
    "test_8 = [datapoints[i] for i in test_idx[7]]\n",
    "\n",
    "def create_data_loaders(train_data, val_data, test_data, num_workers=0):\n",
    "    featurizer = featurizers.SimpleMoleculeMolGraphFeaturizer()\n",
    "\n",
    "    train_dset = data.MoleculeDataset(train_data, featurizer)\n",
    "    val_dset = data.MoleculeDataset(val_data, featurizer)\n",
    "    test_dset = data.MoleculeDataset(test_data, featurizer)\n",
    "\n",
    "    train_loader = data.MolGraphDataLoader(train_dset, num_workers=num_workers)\n",
    "    val_loader = data.MolGraphDataLoader(val_dset, num_workers=num_workers, shuffle=False)\n",
    "    test_loader = data.MolGraphDataLoader(test_dset, num_workers=num_workers, shuffle=False)\n",
    "\n",
    "    return train_loader, val_loader, test_loader\n",
    "\n",
    "train_loader_1, val_loader_1, test_loader_1 = create_data_loaders(train_1, val_1, test_1, num_workers)\n",
    "train_loader_2, val_loader_2, test_loader_2 = create_data_loaders(train_2, val_2, test_2, num_workers)\n",
    "train_loader_3, val_loader_3, test_loader_3 = create_data_loaders(train_3, val_3, test_3, num_workers)\n",
    "train_loader_4, val_loader_4, test_loader_4 = create_data_loaders(train_4, val_4, test_4, num_workers)\n",
    "train_loader_5, val_loader_5, test_loader_5 = create_data_loaders(train_5, val_5, test_5, num_workers)\n",
    "train_loader_6, val_loader_6, test_loader_6 = create_data_loaders(train_6, val_6, test_6, num_workers)\n",
    "train_loader_7, val_loader_7, test_loader_7 = create_data_loaders(train_7, val_7, test_7, num_workers)\n",
    "train_loader_8, val_loader_8, test_loader_8 = create_data_loaders(train_8, val_8, test_8, num_workers)\n"
   ]
  },
  {
   "cell_type": "code",
   "execution_count": 8,
   "metadata": {},
   "outputs": [],
   "source": [
    "def create_rndm_loader(test_data):\n",
    "    featurizer = featurizers.SimpleMoleculeMolGraphFeaturizer()\n",
    "\n",
    "\n",
    "    test_dset = data.MoleculeDataset(test_data, featurizer)\n",
    "\n",
    "    return data.MolGraphDataLoader(test_dset, num_workers=0)\n",
    "\n",
    "rndm_test_loader = create_rndm_loader(test_1[:700])"
   ]
  },
  {
   "cell_type": "code",
   "execution_count": 9,
   "metadata": {},
   "outputs": [],
   "source": [
    "def create_model(metric: str, agg: str = 'mean'):\n",
    "    mp = nn.BondMessagePassing(\n",
    "    depth = 6,\n",
    "    d_h = 2200,\n",
    "    dropout=0.05,\n",
    "    # activation='SILU'\n",
    ")\n",
    "    if agg == 'mean':\n",
    "        agg = nn.MeanAggregation(\n",
    "\n",
    "        )\n",
    "\n",
    "    elif agg == 'attentive':\n",
    "        agg = nn.AttentiveAggregation(\n",
    "            output_size=2200,\n",
    "        )\n",
    "\n",
    "    elif agg == 'sum': \n",
    "        agg = nn.SumAggregation(\n",
    "        )\n",
    "    else:\n",
    "        raise ValueError(f'Invalid aggregation: {agg}')\n",
    "\n",
    "    # agg = nn.AttentiveAggregation(\n",
    "    #     output_size=2200,\n",
    "    # )\n",
    "\n",
    "    ffn = nn.RegressionFFN(\n",
    "        input_dim=2200,\n",
    "        n_layers=6,\n",
    "        hidden_dim=2200,\n",
    "        dropout=0.05,\n",
    "        # activation='SILU',\n",
    "        # loc=scaler.mean_, # pass in the mean of the training targets\n",
    "        # scale=scaler.scale_,\n",
    "        n_tasks=1801 # pass in the scale of the training targets\n",
    "    )\n",
    "    batch_norm=False\n",
    "    if metric == 'rmse':\n",
    "        metric_list = [nn.RMSEMetric()]\n",
    "    elif metric == 'sid':\n",
    "        metric_list = [nn.SIDMetric(), nn.RMSEMetric()]\n",
    "\n",
    "    else:\n",
    "        raise ValueError(f'Invalid metric: {metric}')\n",
    "    return models.MPNN(mp, agg, ffn, batch_norm, metrics=metric_list)\n",
    "\n",
    "mpnn1 = create_model('rmse', 'attentive')\n",
    "mpnn2 = create_model('rmse', 'attentive')\n",
    "mpnn3 = create_model('rmse', 'attentive')\n",
    "mpnn4 = create_model('rmse', 'attentive')\n",
    "mpnn5 = create_model('rmse', 'attentive')\n",
    "mpnn6 = create_model('rmse', 'attentive')\n",
    "mpnn7 = create_model('rmse', 'attentive')\n",
    "mpnn8 = create_model('rmse', 'attentive')\n"
   ]
  },
  {
   "cell_type": "code",
   "execution_count": 43,
   "metadata": {},
   "outputs": [
    {
     "name": "stderr",
     "output_type": "stream",
     "text": [
      "Using bfloat16 Automatic Mixed Precision (AMP)\n",
      "GPU available: True (cuda), used: True\n",
      "TPU available: False, using: 0 TPU cores\n",
      "IPU available: False, using: 0 IPUs\n",
      "HPU available: False, using: 0 HPUs\n",
      "Using bfloat16 Automatic Mixed Precision (AMP)\n",
      "GPU available: True (cuda), used: True\n",
      "TPU available: False, using: 0 TPU cores\n",
      "IPU available: False, using: 0 IPUs\n",
      "HPU available: False, using: 0 HPUs\n",
      "Using bfloat16 Automatic Mixed Precision (AMP)\n",
      "GPU available: True (cuda), used: True\n",
      "TPU available: False, using: 0 TPU cores\n",
      "IPU available: False, using: 0 IPUs\n",
      "HPU available: False, using: 0 HPUs\n",
      "Using bfloat16 Automatic Mixed Precision (AMP)\n",
      "GPU available: True (cuda), used: True\n",
      "TPU available: False, using: 0 TPU cores\n",
      "IPU available: False, using: 0 IPUs\n",
      "HPU available: False, using: 0 HPUs\n",
      "Using bfloat16 Automatic Mixed Precision (AMP)\n",
      "GPU available: True (cuda), used: True\n",
      "TPU available: False, using: 0 TPU cores\n",
      "IPU available: False, using: 0 IPUs\n",
      "HPU available: False, using: 0 HPUs\n",
      "Using bfloat16 Automatic Mixed Precision (AMP)\n",
      "GPU available: True (cuda), used: True\n",
      "TPU available: False, using: 0 TPU cores\n",
      "IPU available: False, using: 0 IPUs\n",
      "HPU available: False, using: 0 HPUs\n",
      "Using bfloat16 Automatic Mixed Precision (AMP)\n",
      "GPU available: True (cuda), used: True\n",
      "TPU available: False, using: 0 TPU cores\n",
      "IPU available: False, using: 0 IPUs\n",
      "HPU available: False, using: 0 HPUs\n",
      "Using bfloat16 Automatic Mixed Precision (AMP)\n",
      "GPU available: True (cuda), used: True\n",
      "TPU available: False, using: 0 TPU cores\n",
      "IPU available: False, using: 0 IPUs\n",
      "HPU available: False, using: 0 HPUs\n"
     ]
    }
   ],
   "source": [
    "class MetricTracker(pl.Callback):\n",
    "    def __init__(self):\n",
    "        self.metrics = []\n",
    "\n",
    "    def on_validation_end(self, trainer, pl_module):\n",
    "        self.metrics.append(trainer.callback_metrics)\n",
    "\n",
    "    def save_metrics(self, file_path):\n",
    "        metrics_dict = {}\n",
    "        for metric_dict in self.metrics:\n",
    "            for key, value in metric_dict.items():\n",
    "                if key not in metrics_dict:\n",
    "                    metrics_dict[key] = []\n",
    "                metrics_dict[key].append(value.item())\n",
    "\n",
    "        with open(file_path, 'w') as file:\n",
    "            for key, values in metrics_dict.items():\n",
    "                file.write(f\"{key}: {values}\\n\")\n",
    "\n",
    "metric_tracker = MetricTracker()\n",
    "\n",
    "early_stop_callback = pl.callbacks.EarlyStopping(\n",
    "    monitor='val_loss',  # Specify the metric to monitor\n",
    "    min_delta=0.00,  # Minimum change in the monitored metric needed to qualify as an improvement\n",
    "    patience=3,  # Number of epochs with no improvement after which training will be stopped\n",
    "    verbose=False,  # Whether to print messages when early stopping is triggered\n",
    "    mode='min'  # Whether the monitored metric should be minimized or maximized\n",
    ")\n",
    "\n",
    "\n",
    "\n",
    "\n",
    "trainer_1 = pl.Trainer(\n",
    "    precision='bf16-mixed',\n",
    "    logger=True,\n",
    "    enable_checkpointing=False, # Use `True` if you want to save model checkpoints. The checkpoints will be saved in the `checkpoints` folder.\n",
    "    enable_progress_bar=True,\n",
    "    accelerator=\"auto\",\n",
    "    devices=1,\n",
    "    max_epochs=10, # number of epochs to train for\n",
    "    # callbacks=[metric_tracker, early_stop_callback]\n",
    ")\n",
    "\n",
    "trainer_2 = pl.Trainer(\n",
    "    precision='bf16-mixed',\n",
    "    logger=True,\n",
    "    enable_checkpointing=False, # Use `True` if you want to save model checkpoints. The checkpoints will be saved in the `checkpoints` folder.\n",
    "    enable_progress_bar=True,\n",
    "    accelerator=\"auto\",\n",
    "    devices=1,\n",
    "    max_epochs=10, # number of epochs to train for\n",
    ")\n",
    "\n",
    "trainer_3 = pl.Trainer(\n",
    "    precision='bf16-mixed',\n",
    "    logger=True,\n",
    "    enable_checkpointing=False, # Use `True` if you want to save model checkpoints. The checkpoints will be saved in the `checkpoints` folder.\n",
    "    enable_progress_bar=True,\n",
    "    accelerator=\"auto\",\n",
    "    devices=1,\n",
    "    max_epochs=10, # number of epochs to train for\n",
    "    # callbacks=[metric_tracker, early_stop_callback]\n",
    ")\n",
    "\n",
    "trainer_4 = pl.Trainer(\n",
    "    precision='bf16-mixed',\n",
    "    logger=True,\n",
    "    enable_checkpointing=False, # Use `True` if you want to save model checkpoints. The checkpoints will be saved in the `checkpoints` folder.\n",
    "    enable_progress_bar=True,\n",
    "    accelerator=\"auto\",\n",
    "    devices=1,\n",
    "    max_epochs=10, # number of epochs to train for\n",
    ")\n",
    "\n",
    "trainer_5 = pl.Trainer(\n",
    "    precision='bf16-mixed',\n",
    "    logger=True,\n",
    "    enable_checkpointing=False, # Use `True` if you want to save model checkpoints. The checkpoints will be saved in the `checkpoints` folder.\n",
    "    enable_progress_bar=True,\n",
    "    accelerator=\"auto\",\n",
    "    devices=1,\n",
    "    max_epochs=10, # number of epochs to train for\n",
    "    # callbacks=[metric_tracker, early_stop_callback]\n",
    ")\n",
    "\n",
    "trainer_6 = pl.Trainer(\n",
    "    precision='bf16-mixed',\n",
    "    logger=True,\n",
    "    enable_checkpointing=False, # Use `True` if you want to save model checkpoints. The checkpoints will be saved in the `checkpoints` folder.\n",
    "    enable_progress_bar=True,\n",
    "    accelerator=\"auto\",\n",
    "    devices=1,\n",
    "    max_epochs=10, # number of epochs to train for\n",
    ")\n",
    "\n",
    "trainer_7 = pl.Trainer(\n",
    "    precision='bf16-mixed',\n",
    "    logger=True,\n",
    "    enable_checkpointing=False, # Use `True` if you want to save model checkpoints. The checkpoints will be saved in the `checkpoints` folder.\n",
    "    enable_progress_bar=True,\n",
    "    accelerator=\"auto\",\n",
    "    devices=1,\n",
    "    max_epochs=10, # number of epochs to train for\n",
    ")\n",
    "\n",
    "trainer_8 = pl.Trainer(\n",
    "    precision='bf16-mixed',\n",
    "    logger=True,\n",
    "    enable_checkpointing=False, # Use `True` if you want to save model checkpoints. The checkpoints will be saved in the `checkpoints` folder.\n",
    "    enable_progress_bar=True,\n",
    "    accelerator=\"auto\",\n",
    "    devices=1,\n",
    "    max_epochs=10, # number of epochs to train for\n",
    ")\n",
    "\n",
    "\n"
   ]
  },
  {
   "cell_type": "code",
   "execution_count": 44,
   "metadata": {},
   "outputs": [
    {
     "name": "stderr",
     "output_type": "stream",
     "text": [
      "LOCAL_RANK: 0 - CUDA_VISIBLE_DEVICES: [0]\n",
      "Loading `train_dataloader` to estimate number of stepping batches.\n",
      "c:\\Users\\rhys-\\miniconda3\\envs\\cp3\\Lib\\site-packages\\lightning\\pytorch\\trainer\\connectors\\data_connector.py:441: The 'train_dataloader' does not have many workers which may be a bottleneck. Consider increasing the value of the `num_workers` argument` to `num_workers=11` in the `DataLoader` to improve performance.\n",
      "\n",
      "  | Name            | Type                 | Params\n",
      "---------------------------------------------------------\n",
      "0 | message_passing | BondMessagePassing   | 10.3 M\n",
      "1 | agg             | AttentiveAggregation | 2.2 K \n",
      "2 | bn              | Identity             | 0     \n",
      "3 | predictor       | RegressionFFN        | 33.0 M\n",
      "  | other params    | n/a                  | 1.8 K \n",
      "---------------------------------------------------------\n",
      "43.3 M    Trainable params\n",
      "1.8 K     Non-trainable params\n",
      "43.3 M    Total params\n",
      "173.278   Total estimated model params size (MB)\n"
     ]
    },
    {
     "name": "stdout",
     "output_type": "stream",
     "text": [
      "Sanity Checking DataLoader 0:   0%|          | 0/2 [00:00<?, ?it/s]"
     ]
    },
    {
     "name": "stderr",
     "output_type": "stream",
     "text": [
      "c:\\Users\\rhys-\\miniconda3\\envs\\cp3\\Lib\\site-packages\\lightning\\pytorch\\trainer\\connectors\\data_connector.py:441: The 'val_dataloader' does not have many workers which may be a bottleneck. Consider increasing the value of the `num_workers` argument` to `num_workers=11` in the `DataLoader` to improve performance.\n"
     ]
    },
    {
     "name": "stdout",
     "output_type": "stream",
     "text": [
      "Epoch 9: 100%|██████████| 1948/1948 [01:08<00:00, 28.28it/s, v_num=45, train/loss=0.00337, val_loss=0.0542]"
     ]
    },
    {
     "name": "stderr",
     "output_type": "stream",
     "text": [
      "`Trainer.fit` stopped: `max_epochs=10` reached.\n"
     ]
    },
    {
     "name": "stdout",
     "output_type": "stream",
     "text": [
      "Epoch 9: 100%|██████████| 1948/1948 [01:08<00:00, 28.28it/s, v_num=45, train/loss=0.00337, val_loss=0.0542]\n"
     ]
    },
    {
     "name": "stderr",
     "output_type": "stream",
     "text": [
      "LOCAL_RANK: 0 - CUDA_VISIBLE_DEVICES: [0]\n",
      "Loading `train_dataloader` to estimate number of stepping batches.\n",
      "\n",
      "  | Name            | Type                 | Params\n",
      "---------------------------------------------------------\n",
      "0 | message_passing | BondMessagePassing   | 10.3 M\n",
      "1 | agg             | AttentiveAggregation | 2.2 K \n",
      "2 | bn              | Identity             | 0     \n",
      "3 | predictor       | RegressionFFN        | 33.0 M\n",
      "  | other params    | n/a                  | 1.8 K \n",
      "---------------------------------------------------------\n",
      "43.3 M    Trainable params\n",
      "1.8 K     Non-trainable params\n",
      "43.3 M    Total params\n",
      "173.278   Total estimated model params size (MB)\n"
     ]
    },
    {
     "name": "stdout",
     "output_type": "stream",
     "text": [
      "Epoch 9: 100%|██████████| 1948/1948 [01:07<00:00, 28.83it/s, v_num=46, train/loss=0.00258, val_loss=0.0544]"
     ]
    },
    {
     "name": "stderr",
     "output_type": "stream",
     "text": [
      "`Trainer.fit` stopped: `max_epochs=10` reached.\n"
     ]
    },
    {
     "name": "stdout",
     "output_type": "stream",
     "text": [
      "Epoch 9: 100%|██████████| 1948/1948 [01:07<00:00, 28.83it/s, v_num=46, train/loss=0.00258, val_loss=0.0544]\n"
     ]
    },
    {
     "name": "stderr",
     "output_type": "stream",
     "text": [
      "LOCAL_RANK: 0 - CUDA_VISIBLE_DEVICES: [0]\n",
      "Loading `train_dataloader` to estimate number of stepping batches.\n",
      "\n",
      "  | Name            | Type                 | Params\n",
      "---------------------------------------------------------\n",
      "0 | message_passing | BondMessagePassing   | 10.3 M\n",
      "1 | agg             | AttentiveAggregation | 2.2 K \n",
      "2 | bn              | Identity             | 0     \n",
      "3 | predictor       | RegressionFFN        | 33.0 M\n",
      "  | other params    | n/a                  | 1.8 K \n",
      "---------------------------------------------------------\n",
      "43.3 M    Trainable params\n",
      "1.8 K     Non-trainable params\n",
      "43.3 M    Total params\n",
      "173.278   Total estimated model params size (MB)\n"
     ]
    },
    {
     "name": "stdout",
     "output_type": "stream",
     "text": [
      "Epoch 9: 100%|██████████| 1948/1948 [01:07<00:00, 28.92it/s, v_num=47, train/loss=0.0029, val_loss=0.0541] "
     ]
    },
    {
     "name": "stderr",
     "output_type": "stream",
     "text": [
      "`Trainer.fit` stopped: `max_epochs=10` reached.\n"
     ]
    },
    {
     "name": "stdout",
     "output_type": "stream",
     "text": [
      "Epoch 9: 100%|██████████| 1948/1948 [01:07<00:00, 28.92it/s, v_num=47, train/loss=0.0029, val_loss=0.0541]\n"
     ]
    },
    {
     "name": "stderr",
     "output_type": "stream",
     "text": [
      "LOCAL_RANK: 0 - CUDA_VISIBLE_DEVICES: [0]\n",
      "Loading `train_dataloader` to estimate number of stepping batches.\n",
      "\n",
      "  | Name            | Type                 | Params\n",
      "---------------------------------------------------------\n",
      "0 | message_passing | BondMessagePassing   | 10.3 M\n",
      "1 | agg             | AttentiveAggregation | 2.2 K \n",
      "2 | bn              | Identity             | 0     \n",
      "3 | predictor       | RegressionFFN        | 33.0 M\n",
      "  | other params    | n/a                  | 1.8 K \n",
      "---------------------------------------------------------\n",
      "43.3 M    Trainable params\n",
      "1.8 K     Non-trainable params\n",
      "43.3 M    Total params\n",
      "173.278   Total estimated model params size (MB)\n"
     ]
    },
    {
     "name": "stdout",
     "output_type": "stream",
     "text": [
      "Epoch 9: 100%|██████████| 1948/1948 [01:07<00:00, 28.85it/s, v_num=48, train/loss=0.00169, val_loss=0.0546]"
     ]
    },
    {
     "name": "stderr",
     "output_type": "stream",
     "text": [
      "`Trainer.fit` stopped: `max_epochs=10` reached.\n"
     ]
    },
    {
     "name": "stdout",
     "output_type": "stream",
     "text": [
      "Epoch 9: 100%|██████████| 1948/1948 [01:07<00:00, 28.85it/s, v_num=48, train/loss=0.00169, val_loss=0.0546]\n"
     ]
    },
    {
     "name": "stderr",
     "output_type": "stream",
     "text": [
      "LOCAL_RANK: 0 - CUDA_VISIBLE_DEVICES: [0]\n",
      "Loading `train_dataloader` to estimate number of stepping batches.\n",
      "\n",
      "  | Name            | Type                 | Params\n",
      "---------------------------------------------------------\n",
      "0 | message_passing | BondMessagePassing   | 10.3 M\n",
      "1 | agg             | AttentiveAggregation | 2.2 K \n",
      "2 | bn              | Identity             | 0     \n",
      "3 | predictor       | RegressionFFN        | 33.0 M\n",
      "  | other params    | n/a                  | 1.8 K \n",
      "---------------------------------------------------------\n",
      "43.3 M    Trainable params\n",
      "1.8 K     Non-trainable params\n",
      "43.3 M    Total params\n",
      "173.278   Total estimated model params size (MB)\n"
     ]
    },
    {
     "name": "stdout",
     "output_type": "stream",
     "text": [
      "Epoch 9: 100%|██████████| 1948/1948 [01:07<00:00, 28.70it/s, v_num=49, train/loss=0.00278, val_loss=0.0541]"
     ]
    },
    {
     "name": "stderr",
     "output_type": "stream",
     "text": [
      "`Trainer.fit` stopped: `max_epochs=10` reached.\n"
     ]
    },
    {
     "name": "stdout",
     "output_type": "stream",
     "text": [
      "Epoch 9: 100%|██████████| 1948/1948 [01:07<00:00, 28.70it/s, v_num=49, train/loss=0.00278, val_loss=0.0541]\n"
     ]
    },
    {
     "name": "stderr",
     "output_type": "stream",
     "text": [
      "LOCAL_RANK: 0 - CUDA_VISIBLE_DEVICES: [0]\n",
      "Loading `train_dataloader` to estimate number of stepping batches.\n",
      "\n",
      "  | Name            | Type                 | Params\n",
      "---------------------------------------------------------\n",
      "0 | message_passing | BondMessagePassing   | 10.3 M\n",
      "1 | agg             | AttentiveAggregation | 2.2 K \n",
      "2 | bn              | Identity             | 0     \n",
      "3 | predictor       | RegressionFFN        | 33.0 M\n",
      "  | other params    | n/a                  | 1.8 K \n",
      "---------------------------------------------------------\n",
      "43.3 M    Trainable params\n",
      "1.8 K     Non-trainable params\n",
      "43.3 M    Total params\n",
      "173.278   Total estimated model params size (MB)\n"
     ]
    },
    {
     "name": "stdout",
     "output_type": "stream",
     "text": [
      "Epoch 9: 100%|██████████| 1948/1948 [01:07<00:00, 28.83it/s, v_num=50, train/loss=0.00365, val_loss=0.0542]"
     ]
    },
    {
     "name": "stderr",
     "output_type": "stream",
     "text": [
      "`Trainer.fit` stopped: `max_epochs=10` reached.\n"
     ]
    },
    {
     "name": "stdout",
     "output_type": "stream",
     "text": [
      "Epoch 9: 100%|██████████| 1948/1948 [01:07<00:00, 28.83it/s, v_num=50, train/loss=0.00365, val_loss=0.0542]\n"
     ]
    },
    {
     "name": "stderr",
     "output_type": "stream",
     "text": [
      "LOCAL_RANK: 0 - CUDA_VISIBLE_DEVICES: [0]\n",
      "Loading `train_dataloader` to estimate number of stepping batches.\n",
      "\n",
      "  | Name            | Type                 | Params\n",
      "---------------------------------------------------------\n",
      "0 | message_passing | BondMessagePassing   | 10.3 M\n",
      "1 | agg             | AttentiveAggregation | 2.2 K \n",
      "2 | bn              | Identity             | 0     \n",
      "3 | predictor       | RegressionFFN        | 33.0 M\n",
      "  | other params    | n/a                  | 1.8 K \n",
      "---------------------------------------------------------\n",
      "43.3 M    Trainable params\n",
      "1.8 K     Non-trainable params\n",
      "43.3 M    Total params\n",
      "173.278   Total estimated model params size (MB)\n"
     ]
    },
    {
     "name": "stdout",
     "output_type": "stream",
     "text": [
      "Epoch 9: 100%|██████████| 1948/1948 [01:07<00:00, 28.80it/s, v_num=51, train/loss=0.00417, val_loss=0.0542]"
     ]
    },
    {
     "name": "stderr",
     "output_type": "stream",
     "text": [
      "`Trainer.fit` stopped: `max_epochs=10` reached.\n"
     ]
    },
    {
     "name": "stdout",
     "output_type": "stream",
     "text": [
      "Epoch 9: 100%|██████████| 1948/1948 [01:07<00:00, 28.80it/s, v_num=51, train/loss=0.00417, val_loss=0.0542]\n"
     ]
    },
    {
     "name": "stderr",
     "output_type": "stream",
     "text": [
      "LOCAL_RANK: 0 - CUDA_VISIBLE_DEVICES: [0]\n",
      "Loading `train_dataloader` to estimate number of stepping batches.\n",
      "\n",
      "  | Name            | Type                 | Params\n",
      "---------------------------------------------------------\n",
      "0 | message_passing | BondMessagePassing   | 10.3 M\n",
      "1 | agg             | AttentiveAggregation | 2.2 K \n",
      "2 | bn              | Identity             | 0     \n",
      "3 | predictor       | RegressionFFN        | 33.0 M\n",
      "  | other params    | n/a                  | 1.8 K \n",
      "---------------------------------------------------------\n",
      "43.3 M    Trainable params\n",
      "1.8 K     Non-trainable params\n",
      "43.3 M    Total params\n",
      "173.278   Total estimated model params size (MB)\n"
     ]
    },
    {
     "name": "stdout",
     "output_type": "stream",
     "text": [
      "Epoch 9: 100%|██████████| 1948/1948 [01:07<00:00, 28.73it/s, v_num=52, train/loss=0.0024, val_loss=0.0544] "
     ]
    },
    {
     "name": "stderr",
     "output_type": "stream",
     "text": [
      "`Trainer.fit` stopped: `max_epochs=10` reached.\n"
     ]
    },
    {
     "name": "stdout",
     "output_type": "stream",
     "text": [
      "Epoch 9: 100%|██████████| 1948/1948 [01:07<00:00, 28.73it/s, v_num=52, train/loss=0.0024, val_loss=0.0544]\n"
     ]
    }
   ],
   "source": [
    "trainer_1.fit(mpnn1, train_loader_1, val_loader_1)\n",
    "trainer_2.fit(mpnn2, train_loader_2, val_loader_2)\n",
    "trainer_3.fit(mpnn3, train_loader_3, val_loader_3)\n",
    "trainer_4.fit(mpnn4, train_loader_4, val_loader_4)\n",
    "trainer_5.fit(mpnn5, train_loader_5, val_loader_5)\n",
    "trainer_6.fit(mpnn6, train_loader_6, val_loader_6)\n",
    "trainer_7.fit(mpnn7, train_loader_7, val_loader_7)\n",
    "trainer_8.fit(mpnn8, train_loader_8, val_loader_8)\n",
    "\n"
   ]
  },
  {
   "cell_type": "code",
   "execution_count": 45,
   "metadata": {},
   "outputs": [
    {
     "name": "stderr",
     "output_type": "stream",
     "text": [
      "LOCAL_RANK: 0 - CUDA_VISIBLE_DEVICES: [0]\n",
      "c:\\Users\\rhys-\\miniconda3\\envs\\cp3\\Lib\\site-packages\\lightning\\pytorch\\trainer\\connectors\\data_connector.py:492: Your `predict_dataloader`'s sampler has shuffling enabled, it is strongly recommended that you turn shuffling off for val/test dataloaders.\n",
      "c:\\Users\\rhys-\\miniconda3\\envs\\cp3\\Lib\\site-packages\\lightning\\pytorch\\trainer\\connectors\\data_connector.py:441: The 'predict_dataloader' does not have many workers which may be a bottleneck. Consider increasing the value of the `num_workers` argument` to `num_workers=11` in the `DataLoader` to improve performance.\n"
     ]
    },
    {
     "name": "stdout",
     "output_type": "stream",
     "text": [
      "Predicting DataLoader 0: 100%|██████████| 767/767 [00:04<00:00, 159.97it/s]"
     ]
    },
    {
     "name": "stderr",
     "output_type": "stream",
     "text": [
      "LOCAL_RANK: 0 - CUDA_VISIBLE_DEVICES: [0]\n"
     ]
    },
    {
     "name": "stdout",
     "output_type": "stream",
     "text": [
      "\n",
      "Predicting DataLoader 0: 100%|██████████| 767/767 [00:03<00:00, 198.35it/s]"
     ]
    },
    {
     "name": "stderr",
     "output_type": "stream",
     "text": [
      "LOCAL_RANK: 0 - CUDA_VISIBLE_DEVICES: [0]\n"
     ]
    },
    {
     "name": "stdout",
     "output_type": "stream",
     "text": [
      "\n",
      "Predicting DataLoader 0: 100%|██████████| 767/767 [00:04<00:00, 185.76it/s]"
     ]
    },
    {
     "name": "stderr",
     "output_type": "stream",
     "text": [
      "LOCAL_RANK: 0 - CUDA_VISIBLE_DEVICES: [0]\n"
     ]
    },
    {
     "name": "stdout",
     "output_type": "stream",
     "text": [
      "\n",
      "Predicting DataLoader 0: 100%|██████████| 767/767 [00:03<00:00, 202.80it/s]\n"
     ]
    },
    {
     "name": "stderr",
     "output_type": "stream",
     "text": [
      "LOCAL_RANK: 0 - CUDA_VISIBLE_DEVICES: [0]\n"
     ]
    },
    {
     "name": "stdout",
     "output_type": "stream",
     "text": [
      "Predicting DataLoader 0: 100%|██████████| 767/767 [00:03<00:00, 203.34it/s]"
     ]
    },
    {
     "name": "stderr",
     "output_type": "stream",
     "text": [
      "LOCAL_RANK: 0 - CUDA_VISIBLE_DEVICES: [0]\n"
     ]
    },
    {
     "name": "stdout",
     "output_type": "stream",
     "text": [
      "\n",
      "Predicting DataLoader 0: 100%|██████████| 767/767 [00:03<00:00, 207.97it/s]"
     ]
    },
    {
     "name": "stderr",
     "output_type": "stream",
     "text": [
      "LOCAL_RANK: 0 - CUDA_VISIBLE_DEVICES: [0]\n"
     ]
    },
    {
     "name": "stdout",
     "output_type": "stream",
     "text": [
      "\n",
      "Predicting DataLoader 0: 100%|██████████| 767/767 [00:03<00:00, 202.64it/s]"
     ]
    },
    {
     "name": "stderr",
     "output_type": "stream",
     "text": [
      "LOCAL_RANK: 0 - CUDA_VISIBLE_DEVICES: [0]\n"
     ]
    },
    {
     "name": "stdout",
     "output_type": "stream",
     "text": [
      "\n",
      "Predicting DataLoader 0: 100%|██████████| 767/767 [00:03<00:00, 203.83it/s]\n"
     ]
    }
   ],
   "source": [
    "model_1_preds = trainer_1.predict(mpnn1, test_loader)\n",
    "model_2_preds = trainer_2.predict(mpnn2, test_loader)\n",
    "model_3_preds = trainer_3.predict(mpnn3, test_loader)\n",
    "model_4_preds = trainer_4.predict(mpnn4, test_loader)\n",
    "model_5_preds = trainer_5.predict(mpnn5, test_loader)\n",
    "model_6_preds = trainer_6.predict(mpnn6, test_loader)\n",
    "model_7_preds = trainer_7.predict(mpnn7, test_loader)\n",
    "model_8_preds = trainer_8.predict(mpnn8, test_loader)\n"
   ]
  },
  {
   "cell_type": "code",
   "execution_count": 46,
   "metadata": {},
   "outputs": [
    {
     "name": "stderr",
     "output_type": "stream",
     "text": [
      "LOCAL_RANK: 0 - CUDA_VISIBLE_DEVICES: [0]\n"
     ]
    },
    {
     "name": "stdout",
     "output_type": "stream",
     "text": [
      "Predicting DataLoader 0: 100%|██████████| 767/767 [00:03<00:00, 205.14it/s]"
     ]
    },
    {
     "name": "stderr",
     "output_type": "stream",
     "text": [
      "LOCAL_RANK: 0 - CUDA_VISIBLE_DEVICES: [0]\n"
     ]
    },
    {
     "name": "stdout",
     "output_type": "stream",
     "text": [
      "\n",
      "Predicting DataLoader 0: 100%|██████████| 767/767 [00:03<00:00, 200.42it/s]"
     ]
    },
    {
     "name": "stderr",
     "output_type": "stream",
     "text": [
      "LOCAL_RANK: 0 - CUDA_VISIBLE_DEVICES: [0]\n"
     ]
    },
    {
     "name": "stdout",
     "output_type": "stream",
     "text": [
      "\n",
      "Predicting DataLoader 0: 100%|██████████| 767/767 [00:04<00:00, 168.47it/s]\n"
     ]
    },
    {
     "name": "stderr",
     "output_type": "stream",
     "text": [
      "LOCAL_RANK: 0 - CUDA_VISIBLE_DEVICES: [0]\n"
     ]
    },
    {
     "name": "stdout",
     "output_type": "stream",
     "text": [
      "Predicting DataLoader 0: 100%|██████████| 767/767 [00:04<00:00, 190.65it/s]\n"
     ]
    },
    {
     "name": "stderr",
     "output_type": "stream",
     "text": [
      "LOCAL_RANK: 0 - CUDA_VISIBLE_DEVICES: [0]\n"
     ]
    },
    {
     "name": "stdout",
     "output_type": "stream",
     "text": [
      "Predicting DataLoader 0: 100%|██████████| 767/767 [00:04<00:00, 186.21it/s]\n"
     ]
    },
    {
     "name": "stderr",
     "output_type": "stream",
     "text": [
      "LOCAL_RANK: 0 - CUDA_VISIBLE_DEVICES: [0]\n"
     ]
    },
    {
     "name": "stdout",
     "output_type": "stream",
     "text": [
      "Predicting DataLoader 0: 100%|██████████| 767/767 [00:04<00:00, 186.35it/s]\n"
     ]
    },
    {
     "name": "stderr",
     "output_type": "stream",
     "text": [
      "LOCAL_RANK: 0 - CUDA_VISIBLE_DEVICES: [0]\n"
     ]
    },
    {
     "name": "stdout",
     "output_type": "stream",
     "text": [
      "Predicting DataLoader 0: 100%|██████████| 767/767 [00:03<00:00, 196.06it/s]\n"
     ]
    },
    {
     "name": "stderr",
     "output_type": "stream",
     "text": [
      "LOCAL_RANK: 0 - CUDA_VISIBLE_DEVICES: [0]\n"
     ]
    },
    {
     "name": "stdout",
     "output_type": "stream",
     "text": [
      "Predicting DataLoader 0: 100%|██████████| 767/767 [00:04<00:00, 181.22it/s]\n"
     ]
    }
   ],
   "source": [
    "# model_1_preds_rndm = trainer_1.predict(mpnn1, test_loader)\n",
    "# model_2_preds_rndm = trainer_2.predict(mpnn2, test_loader)\n",
    "# model_3_preds_rndm = trainer_3.predict(mpnn3, test_loader)\n",
    "# model_4_preds_rndm = trainer_4.predict(mpnn4, test_loader)\n",
    "# model_5_preds_rndm = trainer_5.predict(mpnn5, test_loader)\n",
    "# model_6_preds_rndm = trainer_6.predict(mpnn6, test_loader)\n",
    "# model_7_preds_rndm = trainer_7.predict(mpnn7, test_loader)\n",
    "# model_8_preds_rndm = trainer_8.predict(mpnn8, test_loader)\n",
    "\n",
    "model_1_preds_rndm = trainer_1.predict(mpnn1, test_loader)\n",
    "model_2_preds_rndm = trainer_2.predict(mpnn2, test_loader)\n",
    "model_3_preds_rndm = trainer_3.predict(mpnn3, test_loader)\n",
    "model_4_preds_rndm = trainer_4.predict(mpnn4, test_loader)\n",
    "model_5_preds_rndm = trainer_5.predict(mpnn5, test_loader)\n",
    "model_6_preds_rndm = trainer_6.predict(mpnn6, test_loader)\n",
    "model_7_preds_rndm = trainer_7.predict(mpnn7, test_loader)\n",
    "model_8_preds_rndm = trainer_8.predict(mpnn8, test_loader)\n",
    "# convert preds to float32\n",
    "\n",
    "model_1_preds_rndm = [pred.float() for pred in model_1_preds_rndm]\n",
    "model_2_preds_rndm = [pred.float() for pred in model_2_preds_rndm]\n",
    "model_3_preds_rndm = [pred.float() for pred in model_3_preds_rndm]\n",
    "model_4_preds_rndm = [pred.float() for pred in model_4_preds_rndm]\n",
    "model_5_preds_rndm = [pred.float() for pred in model_5_preds_rndm]\n",
    "model_6_preds_rndm = [pred.float() for pred in model_6_preds_rndm]\n",
    "model_7_preds_rndm = [pred.float() for pred in model_7_preds_rndm]\n",
    "model_8_preds_rndm = [pred.float() for pred in model_8_preds_rndm]\n",
    "\n",
    "single_model_preds_rndm = model_1_preds_rndm\n",
    "two_model_ensemble_preds_rndm = [torch.mean(torch.stack([model_1_preds_rndm[i], model_2_preds_rndm[i]]), dim=0) for i in range(len(model_1_preds_rndm))]\n",
    "three_model_ensemble_preds_rndm = [torch.mean(torch.stack([model_1_preds_rndm[i], model_2_preds_rndm[i], model_3_preds_rndm[i]]), dim=0) for i in range(len(model_1_preds_rndm))]\n",
    "four_model_ensemble_preds_rndm = [torch.mean(torch.stack([model_1_preds_rndm[i], model_2_preds_rndm[i], model_3_preds_rndm[i], model_4_preds_rndm[i]]), dim=0) for i in range(len(model_1_preds_rndm))]\n",
    "five_model_ensemble_preds_rndm = [torch.mean(torch.stack([model_1_preds_rndm[i], model_2_preds_rndm[i], model_3_preds_rndm[i], model_4_preds_rndm[i], model_5_preds_rndm[i]]), dim=0) for i in range(len(model_1_preds_rndm))]\n",
    "six_model_ensemble_preds_rndm = [torch.mean(torch.stack([model_1_preds_rndm[i], model_2_preds_rndm[i], model_3_preds_rndm[i], model_4_preds_rndm[i], model_5_preds_rndm[i], model_6_preds_rndm[i]]), dim=0) for i in range(len(model_1_preds_rndm))]\n",
    "seven_model_ensemble_preds_rndm = [torch.mean(torch.stack([model_1_preds_rndm[i], model_2_preds_rndm[i], model_3_preds_rndm[i], model_4_preds_rndm[i], model_5_preds_rndm[i], model_6_preds_rndm[i], model_7_preds_rndm[i]]), dim=0) for i in range(len(model_1_preds_rndm))]\n",
    "eight_model_ensemble_preds_rndm = [torch.mean(torch.stack([model_1_preds_rndm[i], model_2_preds_rndm[i], model_3_preds_rndm[i], model_4_preds_rndm[i], model_5_preds_rndm[i], model_6_preds_rndm[i], model_7_preds_rndm[i], model_8_preds_rndm[i]]), dim=0) for i in range(len(model_1_preds_rndm))]\n",
    "\n",
    "\n",
    "\n",
    "\n"
   ]
  },
  {
   "cell_type": "code",
   "execution_count": 47,
   "metadata": {},
   "outputs": [],
   "source": [
    "import matplotlib.pyplot as plt\n",
    "\n",
    "# convert rmse preds to float32\n",
    "model_1_preds = [pred.float() for pred in model_1_preds]\n",
    "model_2_preds = [pred.float() for pred in model_2_preds]\n",
    "model_3_preds = [pred.float() for pred in model_3_preds]\n",
    "model_4_preds = [pred.float() for pred in model_4_preds]\n",
    "model_5_preds = [pred.float() for pred in model_5_preds]\n",
    "model_6_preds = [pred.float() for pred in model_6_preds]\n",
    "model_7_preds = [pred.float() for pred in model_7_preds]\n",
    "model_8_preds = [pred.float() for pred in model_8_preds]\n",
    "\n",
    "\n",
    "single_model_preds = model_1_preds\n",
    "\n",
    "two_model_ensemble_preds = [torch.mean(torch.stack(preds), dim=0) for preds in zip(model_1_preds, model_2_preds)]\n",
    "three_model_ensemble_preds = [torch.mean(torch.stack(preds), dim=0) for preds in zip(model_1_preds, model_2_preds, model_3_preds)]\n",
    "four_model_ensemble_preds = [torch.mean(torch.stack(preds), dim=0) for preds in zip(model_1_preds, model_2_preds, model_3_preds, model_4_preds)]\n",
    "five_model_ensemble_preds = [torch.mean(torch.stack(preds), dim=0) for preds in zip(model_1_preds, model_2_preds, model_3_preds, model_4_preds, model_5_preds)]\n",
    "six_model_ensemble_preds = [torch.mean(torch.stack(preds), dim=0) for preds in zip(model_1_preds, model_2_preds, model_3_preds, model_4_preds, model_5_preds, model_6_preds)]\n",
    "seven_model_ensemble_preds = [torch.mean(torch.stack(preds), dim=0) for preds in zip(model_1_preds, model_2_preds, model_3_preds, model_4_preds, model_5_preds, model_6_preds, model_7_preds)]\n",
    "\n",
    "\n",
    "eight_model_ensemble_preds = [torch.mean(torch.stack(preds), dim=0) for preds in zip(model_1_preds, model_2_preds, model_3_preds, model_4_preds, model_5_preds, model_6_preds, model_7_preds, model_8_preds)]\n",
    "\n"
   ]
  },
  {
   "cell_type": "code",
   "execution_count": 48,
   "metadata": {},
   "outputs": [],
   "source": [
    "import numpy as np\n",
    "\n",
    "def calculate_rmse(predicted_spectra, reference_spectra):\n",
    "    if len(predicted_spectra) != len(reference_spectra):\n",
    "        print(len(predicted_spectra), len(reference_spectra))\n",
    "        raise ValueError(\"Length of predicted and reference spectra lists should be the same.\")\n",
    "\n",
    "    rmse_values = []\n",
    "\n",
    "    for i in range(len(predicted_spectra)):\n",
    "        predicted = np.array(predicted_spectra[i]).squeeze()\n",
    "        reference = np.array(reference_spectra[i]).squeeze()\n",
    "\n",
    "        if len(predicted) != len(reference):\n",
    "            print(len(predicted), len(reference))\n",
    "            raise ValueError(f\"Length of predicted and reference spectra at index {i} should be the same.\")\n",
    "\n",
    "        mse = np.mean((predicted - reference) ** 2)\n",
    "        rmse = np.sqrt(mse)\n",
    "        rmse_values.append(rmse)\n",
    "\n",
    "    return rmse_values\n",
    "\n",
    "two_model_ensemble_rmse = calculate_rmse(two_model_ensemble_preds, list(nist_test_df.iloc[:, :-1].values))\n",
    "three_model_ensemble_rmse = calculate_rmse(three_model_ensemble_preds, list(nist_test_df.iloc[:, :-1].values))\n",
    "four_model_ensemble_rmse = calculate_rmse(four_model_ensemble_preds, list(nist_test_df.iloc[:, :-1].values))\n",
    "five_model_ensemble_rmse = calculate_rmse(five_model_ensemble_preds, list(nist_test_df.iloc[:, :-1].values))\n",
    "six_model_ensemble_rmse = calculate_rmse(six_model_ensemble_preds, list(nist_test_df.iloc[:, :-1].values))\n",
    "seven_model_ensemble_rmse = calculate_rmse(seven_model_ensemble_preds, list(nist_test_df.iloc[:, :-1].values))\n",
    "eight_model_ensemble_rmse = calculate_rmse(eight_model_ensemble_preds, list(nist_test_df.iloc[:, :-1].values))\n",
    "\n",
    "\n",
    "\n",
    "ensemble_rmse = calculate_rmse(ensemble_preds, list(nist_test_df.iloc[:, :-1].values))\n",
    "\n",
    "single_model_rmse = calculate_rmse(model_1_preds, list(nist_test_df.iloc[:, :-1].values))"
   ]
  },
  {
   "cell_type": "code",
   "execution_count": 49,
   "metadata": {},
   "outputs": [],
   "source": [
    "single_model_rmse_rndm = calculate_rmse(single_model_preds_rndm, list(list(nist_test_df.iloc[:, :-1].values)))\n",
    "two_model_ensemble_rmse_rndm = calculate_rmse(two_model_ensemble_preds_rndm, list(list(nist_test_df.iloc[:, :-1].values)))\n",
    "three_model_ensemble_rmse_rndm = calculate_rmse(three_model_ensemble_preds_rndm, list(list(nist_test_df.iloc[:, :-1].values)))\n",
    "four_model_ensemble_rmse_rndm = calculate_rmse(four_model_ensemble_preds_rndm, list(list(nist_test_df.iloc[:, :-1].values)))\n",
    "five_model_ensemble_rmse_rndm = calculate_rmse(five_model_ensemble_preds_rndm, list(list(nist_test_df.iloc[:, :-1].values)))\n",
    "six_model_ensemble_rmse_rndm = calculate_rmse(six_model_ensemble_preds_rndm, list(list(nist_test_df.iloc[:, :-1].values)))\n",
    "seven_model_ensemble_rmse_rndm = calculate_rmse(seven_model_ensemble_preds_rndm, list(list(nist_test_df.iloc[:, :-1].values)))\n",
    "eight_model_ensemble_rmse_rndm = calculate_rmse(eight_model_ensemble_preds_rndm, list(list(nist_test_df.iloc[:, :-1].values)))\n",
    "\n",
    "\n"
   ]
  },
  {
   "cell_type": "code",
   "execution_count": 50,
   "metadata": {},
   "outputs": [
    {
     "data": {
      "text/html": [
       "<div>\n",
       "<style scoped>\n",
       "    .dataframe tbody tr th:only-of-type {\n",
       "        vertical-align: middle;\n",
       "    }\n",
       "\n",
       "    .dataframe tbody tr th {\n",
       "        vertical-align: top;\n",
       "    }\n",
       "\n",
       "    .dataframe thead tr th {\n",
       "        text-align: left;\n",
       "    }\n",
       "\n",
       "    .dataframe thead tr:last-of-type th {\n",
       "        text-align: right;\n",
       "    }\n",
       "</style>\n",
       "<table border=\"1\" class=\"dataframe\">\n",
       "  <thead>\n",
       "    <tr>\n",
       "      <th></th>\n",
       "      <th colspan=\"8\" halign=\"left\">RMSE</th>\n",
       "    </tr>\n",
       "    <tr>\n",
       "      <th></th>\n",
       "      <th>count</th>\n",
       "      <th>mean</th>\n",
       "      <th>std</th>\n",
       "      <th>min</th>\n",
       "      <th>25%</th>\n",
       "      <th>50%</th>\n",
       "      <th>75%</th>\n",
       "      <th>max</th>\n",
       "    </tr>\n",
       "    <tr>\n",
       "      <th>Model</th>\n",
       "      <th></th>\n",
       "      <th></th>\n",
       "      <th></th>\n",
       "      <th></th>\n",
       "      <th></th>\n",
       "      <th></th>\n",
       "      <th></th>\n",
       "      <th></th>\n",
       "    </tr>\n",
       "  </thead>\n",
       "  <tbody>\n",
       "    <tr>\n",
       "      <th>Eight Model Ensemble</th>\n",
       "      <td>767.0</td>\n",
       "      <td>0.090205</td>\n",
       "      <td>0.042158</td>\n",
       "      <td>0.036221</td>\n",
       "      <td>0.067608</td>\n",
       "      <td>0.085469</td>\n",
       "      <td>0.104758</td>\n",
       "      <td>0.985049</td>\n",
       "    </tr>\n",
       "    <tr>\n",
       "      <th>Five Model Ensemble</th>\n",
       "      <td>767.0</td>\n",
       "      <td>0.090509</td>\n",
       "      <td>0.042032</td>\n",
       "      <td>0.035605</td>\n",
       "      <td>0.068252</td>\n",
       "      <td>0.085483</td>\n",
       "      <td>0.105014</td>\n",
       "      <td>0.984880</td>\n",
       "    </tr>\n",
       "    <tr>\n",
       "      <th>Four Model Ensemble</th>\n",
       "      <td>767.0</td>\n",
       "      <td>0.090425</td>\n",
       "      <td>0.042085</td>\n",
       "      <td>0.035141</td>\n",
       "      <td>0.067749</td>\n",
       "      <td>0.085566</td>\n",
       "      <td>0.105038</td>\n",
       "      <td>0.984668</td>\n",
       "    </tr>\n",
       "    <tr>\n",
       "      <th>Seven Model Ensemble</th>\n",
       "      <td>767.0</td>\n",
       "      <td>0.090236</td>\n",
       "      <td>0.042137</td>\n",
       "      <td>0.034992</td>\n",
       "      <td>0.067661</td>\n",
       "      <td>0.085486</td>\n",
       "      <td>0.104997</td>\n",
       "      <td>0.984959</td>\n",
       "    </tr>\n",
       "    <tr>\n",
       "      <th>Single Model</th>\n",
       "      <td>767.0</td>\n",
       "      <td>0.091043</td>\n",
       "      <td>0.042355</td>\n",
       "      <td>0.036126</td>\n",
       "      <td>0.068026</td>\n",
       "      <td>0.087235</td>\n",
       "      <td>0.106245</td>\n",
       "      <td>0.982922</td>\n",
       "    </tr>\n",
       "    <tr>\n",
       "      <th>Six Model Ensemble</th>\n",
       "      <td>767.0</td>\n",
       "      <td>0.090245</td>\n",
       "      <td>0.042152</td>\n",
       "      <td>0.034852</td>\n",
       "      <td>0.067820</td>\n",
       "      <td>0.085374</td>\n",
       "      <td>0.105041</td>\n",
       "      <td>0.984957</td>\n",
       "    </tr>\n",
       "    <tr>\n",
       "      <th>Three Model Ensemble</th>\n",
       "      <td>767.0</td>\n",
       "      <td>0.090432</td>\n",
       "      <td>0.042138</td>\n",
       "      <td>0.035750</td>\n",
       "      <td>0.067772</td>\n",
       "      <td>0.085863</td>\n",
       "      <td>0.104768</td>\n",
       "      <td>0.984473</td>\n",
       "    </tr>\n",
       "    <tr>\n",
       "      <th>Two Model Ensemble</th>\n",
       "      <td>767.0</td>\n",
       "      <td>0.090649</td>\n",
       "      <td>0.042244</td>\n",
       "      <td>0.035707</td>\n",
       "      <td>0.068026</td>\n",
       "      <td>0.086377</td>\n",
       "      <td>0.105364</td>\n",
       "      <td>0.984376</td>\n",
       "    </tr>\n",
       "  </tbody>\n",
       "</table>\n",
       "</div>"
      ],
      "text/plain": [
       "                       RMSE                                                    \\\n",
       "                      count      mean       std       min       25%       50%   \n",
       "Model                                                                           \n",
       "Eight Model Ensemble  767.0  0.090205  0.042158  0.036221  0.067608  0.085469   \n",
       "Five Model Ensemble   767.0  0.090509  0.042032  0.035605  0.068252  0.085483   \n",
       "Four Model Ensemble   767.0  0.090425  0.042085  0.035141  0.067749  0.085566   \n",
       "Seven Model Ensemble  767.0  0.090236  0.042137  0.034992  0.067661  0.085486   \n",
       "Single Model          767.0  0.091043  0.042355  0.036126  0.068026  0.087235   \n",
       "Six Model Ensemble    767.0  0.090245  0.042152  0.034852  0.067820  0.085374   \n",
       "Three Model Ensemble  767.0  0.090432  0.042138  0.035750  0.067772  0.085863   \n",
       "Two Model Ensemble    767.0  0.090649  0.042244  0.035707  0.068026  0.086377   \n",
       "\n",
       "                                          \n",
       "                           75%       max  \n",
       "Model                                     \n",
       "Eight Model Ensemble  0.104758  0.985049  \n",
       "Five Model Ensemble   0.105014  0.984880  \n",
       "Four Model Ensemble   0.105038  0.984668  \n",
       "Seven Model Ensemble  0.104997  0.984959  \n",
       "Single Model          0.106245  0.982922  \n",
       "Six Model Ensemble    0.105041  0.984957  \n",
       "Three Model Ensemble  0.104768  0.984473  \n",
       "Two Model Ensemble    0.105364  0.984376  "
      ]
     },
     "execution_count": 50,
     "metadata": {},
     "output_type": "execute_result"
    }
   ],
   "source": [
    "rmse_df.groupby('Model').describe()"
   ]
  },
  {
   "cell_type": "code",
   "execution_count": 51,
   "metadata": {},
   "outputs": [
    {
     "data": {
      "image/png": "[encoded data removed]",
      "text/plain": [
       "<Figure size 2000x1000 with 1 Axes>"
      ]
     },
     "metadata": {},
     "output_type": "display_data"
    }
   ],
   "source": [
    "# create a violin plot of the rmse values\n",
    "import seaborn as sns\n",
    "import pandas as pd\n",
    "\n",
    "rmse_values = single_model_rmse_rndm + two_model_ensemble_rmse_rndm + three_model_ensemble_rmse_rndm + four_model_ensemble_rmse_rndm + five_model_ensemble_rmse_rndm + six_model_ensemble_rmse_rndm + seven_model_ensemble_rmse_rndm + eight_model_ensemble_rmse_rndm\n",
    "\n",
    "model_names = ['Single Model'] * len(single_model_rmse_rndm) + ['Two Model Ensemble'] * len(two_model_ensemble_rmse_rndm) + ['Three Model Ensemble'] * len(three_model_ensemble_rmse_rndm) + ['Four Model Ensemble'] * len(four_model_ensemble_rmse_rndm) + ['Five Model Ensemble'] * len(five_model_ensemble_rmse_rndm) + ['Six Model Ensemble'] * len(six_model_ensemble_rmse_rndm) + ['Seven Model Ensemble'] * len(seven_model_ensemble_rmse_rndm) + ['Eight Model Ensemble'] * len(eight_model_ensemble_rmse_rndm)\n",
    "\n",
    "rmse_df = pd.DataFrame({'RMSE': rmse_values})\n",
    "\n",
    "rmse_df['Model'] = model_names\n",
    "\n",
    "plt.figure(figsize=(20, 10))\n",
    "sns.violinplot(x='Model', y='RMSE', data=rmse_df)\n",
    "plt.xticks(rotation=45)\n",
    "plt.title('RMSE Values for Single and Ensemble Models')\n",
    "plt.show()\n",
    "\n"
   ]
  },
  {
   "cell_type": "code",
   "execution_count": 52,
   "metadata": {},
   "outputs": [],
   "source": [
    "def calculate_sis(predicted_spectra, reference_spectra):\n",
    "    if len(predicted_spectra) != len(reference_spectra):\n",
    "        print(len(predicted_spectra), len(reference_spectra))\n",
    "        raise ValueError(\"Length of predicted and reference spectra lists should be the same.\")\n",
    "\n",
    "    sis_values = []\n",
    "\n",
    "    for i in range(len(predicted_spectra)):\n",
    "        predicted = np.array(predicted_spectra[i]).squeeze()\n",
    "        reference = np.array(reference_spectra[i]).squeeze()\n",
    "\n",
    "        if len(predicted) != len(reference):\n",
    "            print(len(predicted), len(reference))\n",
    "            raise ValueError(f\"Length of predicted and reference spectra at index {i} should be the same.\")\n",
    "\n",
    "        # Set any negative values to zero\n",
    "        predicted[predicted < 0] = 0\n",
    "        reference[reference < 0] = 0\n",
    "\n",
    "        # Add a small constant to avoid taking log of zero\n",
    "        epsilon = 1e-10\n",
    "        predicted += epsilon\n",
    "        reference += epsilon\n",
    "\n",
    "        # Ensure the spectra are normalized\n",
    "        predicted = predicted / np.sum(predicted)\n",
    "        reference = reference / np.sum(reference)\n",
    "\n",
    "        # Check for negative values\n",
    "        if np.any(predicted < 0) or np.any(reference < 0):\n",
    "            raise ValueError(\"Spectra contain negative values\")\n",
    "\n",
    "        # Check for zero values\n",
    "        if np.any(predicted == 0) or np.any(reference == 0):\n",
    "            raise ValueError(\"Spectra contain zero values\")\n",
    "\n",
    "        # Calculate the SID\n",
    "        sid = np.sum(predicted * np.log(predicted / reference)) + np.sum(reference * np.log(reference / predicted))\n",
    "\n",
    "        # Calculate the SIS\n",
    "        sis = 1 / (1 + sid)\n",
    "        sis_values.append(sis)\n",
    "\n",
    "    return sis_values\n",
    "\n",
    "ensemble_sis = calculate_sis(ensemble_preds, list(nist_test_df.iloc[:, :-1].values))\n",
    "\n",
    "single_model_sis = calculate_sis(model_1_preds, list(nist_test_df.iloc[:, :-1].values))\n",
    "\n",
    "\n",
    "\n",
    "\n",
    "\n",
    "\n",
    "\n",
    "\n",
    "\n",
    "\n",
    "\n",
    "\n",
    "\n",
    "\n",
    "\n",
    "\n",
    "\n",
    "\n",
    "\n",
    "\n",
    "\n",
    "\n",
    "\n",
    "\n",
    "\n",
    "\n",
    "\n",
    "\n",
    "\n",
    "\n",
    "\n",
    "\n",
    "\n",
    "\n",
    "\n",
    "\n",
    "\n",
    "\n",
    "\n",
    "\n",
    "\n",
    "\n",
    "\n",
    "\n"
   ]
  },
  {
   "cell_type": "code",
   "execution_count": 53,
   "metadata": {},
   "outputs": [
    {
     "data": {
      "image/png": "[encoded data removed]",
      "text/plain": [
       "<Figure size 640x480 with 1 Axes>"
      ]
     },
     "metadata": {},
     "output_type": "display_data"
    }
   ],
   "source": [
    "plt.hist(ensemble_rmse, bins=50, label='Ensemble')\n",
    "plt.hist(single_model_rmse, bins=50, label='Single Model')\n",
    "plt.xlabel('RMSE')\n",
    "plt.ylabel('Frequency')\n",
    "plt.title('RMSE Distribution')\n",
    "plt.legend()\n",
    "plt.show()\n",
    "\n",
    "\n"
   ]
  },
  {
   "cell_type": "code",
   "execution_count": 54,
   "metadata": {},
   "outputs": [
    {
     "data": {
      "image/png": "[encoded data removed]",
      "text/plain": [
       "<Figure size 640x480 with 1 Axes>"
      ]
     },
     "metadata": {},
     "output_type": "display_data"
    }
   ],
   "source": [
    "plt.hist(ensemble_sis, bins=50, label='Ensemble')\n",
    "plt.hist(single_model_sis, bins=50, label='Single Model')\n",
    "plt.xlabel('SIS')\n",
    "plt.ylabel('Frequency')\n",
    "plt.title('SIS Distribution')\n",
    "plt.legend()\n",
    "plt.show()\n"
   ]
  },
  {
   "cell_type": "code",
   "execution_count": 55,
   "metadata": {},
   "outputs": [
    {
     "data": {
      "text/plain": [
       "700"
      ]
     },
     "execution_count": 55,
     "metadata": {},
     "output_type": "execute_result"
    }
   ],
   "source": [
    "len(rndm_test_loader.dataset)"
   ]
  },
  {
   "cell_type": "code",
   "execution_count": 56,
   "metadata": {},
   "outputs": [],
   "source": [
    "test_spec = []\n",
    "\n",
    "for i, data in enumerate(rndm_test_loader.dataset):\n",
    "    test_spec.append(data.y)\n",
    "\n",
    "test_spec = [np.array(spec).squeeze() for spec in test_spec]\n",
    "\n"
   ]
  },
  {
   "cell_type": "code",
   "execution_count": 20,
   "metadata": {},
   "outputs": [
    {
     "data": {
      "text/plain": [
       "700"
      ]
     },
     "execution_count": 20,
     "metadata": {},
     "output_type": "execute_result"
    }
   ],
   "source": [
    "len(test_spec)"
   ]
  },
  {
   "cell_type": "code",
   "execution_count": 21,
   "metadata": {},
   "outputs": [
    {
     "name": "stderr",
     "output_type": "stream",
     "text": [
      "LOCAL_RANK: 0 - CUDA_VISIBLE_DEVICES: [0]\n"
     ]
    },
    {
     "name": "stdout",
     "output_type": "stream",
     "text": [
      "Predicting DataLoader 0: 100%|██████████| 700/700 [00:03<00:00, 176.68it/s]"
     ]
    },
    {
     "name": "stderr",
     "output_type": "stream",
     "text": [
      "LOCAL_RANK: 0 - CUDA_VISIBLE_DEVICES: [0]\n"
     ]
    },
    {
     "name": "stdout",
     "output_type": "stream",
     "text": [
      "\n",
      "Predicting DataLoader 0: 100%|██████████| 700/700 [00:03<00:00, 185.78it/s]"
     ]
    },
    {
     "name": "stderr",
     "output_type": "stream",
     "text": [
      "LOCAL_RANK: 0 - CUDA_VISIBLE_DEVICES: [0]\n"
     ]
    },
    {
     "name": "stdout",
     "output_type": "stream",
     "text": [
      "\n",
      "Predicting DataLoader 0: 100%|██████████| 700/700 [00:03<00:00, 202.31it/s]\n"
     ]
    },
    {
     "name": "stderr",
     "output_type": "stream",
     "text": [
      "LOCAL_RANK: 0 - CUDA_VISIBLE_DEVICES: [0]\n"
     ]
    },
    {
     "name": "stdout",
     "output_type": "stream",
     "text": [
      "Predicting DataLoader 0: 100%|██████████| 700/700 [00:03<00:00, 202.25it/s]"
     ]
    },
    {
     "name": "stderr",
     "output_type": "stream",
     "text": [
      "LOCAL_RANK: 0 - CUDA_VISIBLE_DEVICES: [0]\n"
     ]
    },
    {
     "name": "stdout",
     "output_type": "stream",
     "text": [
      "\n",
      "Predicting DataLoader 0: 100%|██████████| 700/700 [00:03<00:00, 199.66it/s]"
     ]
    },
    {
     "name": "stderr",
     "output_type": "stream",
     "text": [
      "LOCAL_RANK: 0 - CUDA_VISIBLE_DEVICES: [0]\n"
     ]
    },
    {
     "name": "stdout",
     "output_type": "stream",
     "text": [
      "\n",
      "Predicting DataLoader 0: 100%|██████████| 700/700 [00:03<00:00, 197.02it/s]"
     ]
    },
    {
     "name": "stderr",
     "output_type": "stream",
     "text": [
      "LOCAL_RANK: 0 - CUDA_VISIBLE_DEVICES: [0]\n"
     ]
    },
    {
     "name": "stdout",
     "output_type": "stream",
     "text": [
      "\n",
      "Predicting DataLoader 0: 100%|██████████| 700/700 [00:03<00:00, 195.64it/s]"
     ]
    },
    {
     "name": "stderr",
     "output_type": "stream",
     "text": [
      "LOCAL_RANK: 0 - CUDA_VISIBLE_DEVICES: [0]\n"
     ]
    },
    {
     "name": "stdout",
     "output_type": "stream",
     "text": [
      "\n",
      "Predicting DataLoader 0: 100%|██████████| 700/700 [00:03<00:00, 201.55it/s]\n"
     ]
    }
   ],
   "source": [
    "model_1_preds_rs = trainer_1.predict(mpnn1, rndm_test_loader)\n",
    "model_2_preds_rs = trainer_2.predict(mpnn2, rndm_test_loader)\n",
    "model_3_preds_rs = trainer_3.predict(mpnn3, rndm_test_loader)\n",
    "model_4_preds_rs = trainer_4.predict(mpnn4, rndm_test_loader)\n",
    "model_5_preds_rs = trainer_5.predict(mpnn5, rndm_test_loader)\n",
    "model_6_preds_rs = trainer_6.predict(mpnn6, rndm_test_loader)\n",
    "model_7_preds_rs = trainer_7.predict(mpnn7, rndm_test_loader)\n",
    "model_8_preds_rs = trainer_8.predict(mpnn8, rndm_test_loader)\n",
    "\n",
    "ensemble_preds_rs = [torch.mean(torch.stack(preds), dim=0) for preds in zip(model_1_preds_rs, model_2_preds_rs, model_3_preds_rs, model_4_preds_rs, model_5_preds_rs, model_6_preds_rs, model_7_preds_rs, model_8_preds_rs)]\n"
   ]
  },
  {
   "cell_type": "code",
   "execution_count": 22,
   "metadata": {},
   "outputs": [
    {
     "data": {
      "image/png": "[encoded data removed]",
      "text/plain": [
       "<Figure size 640x480 with 1 Axes>"
      ]
     },
     "metadata": {},
     "output_type": "display_data"
    }
   ],
   "source": [
    "# convert preds to float\n",
    "model_1_preds_rs = [pred.float() for pred in model_1_preds_rs]\n",
    "model_2_preds_rs = [pred.float() for pred in model_2_preds_rs]\n",
    "model_3_preds_rs = [pred.float() for pred in model_3_preds_rs]\n",
    "model_4_preds_rs = [pred.float() for pred in model_4_preds_rs]\n",
    "model_5_preds_rs = [pred.float() for pred in model_5_preds_rs]\n",
    "model_6_preds_rs = [pred.float() for pred in model_6_preds_rs]\n",
    "model_7_preds_rs = [pred.float() for pred in model_7_preds_rs]\n",
    "model_8_preds_rs = [pred.float() for pred in model_8_preds_rs]\n",
    "\n",
    "ensemble_preds_rs = [pred.float() for pred in ensemble_preds_rs]\n",
    "\n",
    "\n",
    "\n",
    "\n",
    "ensemble_rmse_rs = calculate_rmse(ensemble_preds_rs, list(test_spec))\n",
    "\n",
    "single_model_rmse_rs = calculate_rmse(model_1_preds_rs, list(test_spec))\n",
    "\n",
    "ensemble_sis_rs = calculate_sis(ensemble_preds_rs, list(test_spec))\n",
    "\n",
    "single_model_sis_rs = calculate_sis(model_1_preds_rs, list(test_spec))\n",
    "                                    \n",
    "plt.hist(ensemble_rmse_rs, bins=50, label='Ensemble')\n",
    "plt.hist(single_model_rmse_rs, bins=50, label='Single Model')\n",
    "plt.xlabel('RMSE')\n",
    "plt.ylabel('Frequency')\n",
    "plt.title('RMSE Distribution')\n",
    "plt.legend()\n",
    "plt.show()\n",
    "\n"
   ]
  },
  {
   "cell_type": "code",
   "execution_count": 23,
   "metadata": {},
   "outputs": [
    {
     "data": {
      "text/plain": [
       "(array([ 1.,  1.,  2.,  1.,  4.,  8.,  4.,  3.,  4.,  9.,  7., 16., 14.,\n",
       "        15., 18., 34., 23., 27., 25., 21., 22., 25., 27., 24., 27., 24.,\n",
       "        18., 24., 22., 24., 30., 21., 22., 21., 21., 15., 15., 14., 14.,\n",
       "        10.,  4.,  8.,  6.,  4.,  6.,  5.,  3.,  3.,  3.,  1.]),\n",
       " array([0.27453952, 0.28562783, 0.29671614, 0.30780445, 0.31889277,\n",
       "        0.32998108, 0.34106939, 0.3521577 , 0.36324601, 0.37433432,\n",
       "        0.38542264, 0.39651095, 0.40759926, 0.41868757, 0.42977588,\n",
       "        0.44086419, 0.45195251, 0.46304082, 0.47412913, 0.48521744,\n",
       "        0.49630575, 0.50739407, 0.51848238, 0.52957069, 0.540659  ,\n",
       "        0.55174731, 0.56283562, 0.57392394, 0.58501225, 0.59610056,\n",
       "        0.60718887, 0.61827718, 0.62936549, 0.64045381, 0.65154212,\n",
       "        0.66263043, 0.67371874, 0.68480705, 0.69589537, 0.70698368,\n",
       "        0.71807199, 0.7291603 , 0.74024861, 0.75133692, 0.76242524,\n",
       "        0.77351355, 0.78460186, 0.79569017, 0.80677848, 0.81786679,\n",
       "        0.82895511]),\n",
       " <BarContainer object of 50 artists>)"
      ]
     },
     "execution_count": 23,
     "metadata": {},
     "output_type": "execute_result"
    },
    {
     "data": {
      "image/png": "[encoded data removed]",
      "text/plain": [
       "<Figure size 640x480 with 1 Axes>"
      ]
     },
     "metadata": {},
     "output_type": "display_data"
    }
   ],
   "source": [
    "plt.hist(ensemble_sis_rs, bins=50, label='Ensemble')\n",
    "plt.hist(single_model_sis_rs, bins=50, label='Single Model')\n",
    "\n"
   ]
  },
  {
   "cell_type": "code",
   "execution_count": null,
   "metadata": {},
   "outputs": [],
   "source": []
  },
  {
   "cell_type": "code",
   "execution_count": null,
   "metadata": {},
   "outputs": [],
   "source": []
  }
 ],
 "metadata": {
  "kernelspec": {
   "display_name": "cp3",
   "language": "python",
   "name": "python3"
  },
  "language_info": {
   "codemirror_mode": {
    "name": "ipython",
    "version": 3
   },
   "file_extension": ".py",
   "mimetype": "text/x-python",
   "name": "python",
   "nbconvert_exporter": "python",
   "pygments_lexer": "ipython3",
   "version": "3.11.8"
  }
 },
 "nbformat": 4,
 "nbformat_minor": 2
}
