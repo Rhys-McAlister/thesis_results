{
 "cells": [
  {
   "cell_type": "code",
   "execution_count": 1,
   "metadata": {},
   "outputs": [
    {
     "name": "stderr",
     "output_type": "stream",
     "text": [
      "Seed set to 1\n",
      "Seed set to 1\n"
     ]
    }
   ],
   "source": [
    "import pandas as pd\n",
    "import numpy as np\n",
    "import matplotlib.pyplot as plt\n",
    "from lightning import pytorch as pl\n",
    "from sklearn.model_selection import train_test_split\n",
    "import torch\n",
    "torch.set_float32_matmul_precision('medium')\n",
    "from chemprop import data, featurizers, models, nn\n",
    "pl.seed_everything(1)\n",
    "from utils import *\n",
    "# from data_utils import data_prep, prep_data, load_data, split_data, preprocess_data, create_data_loaders, create_mpnn_model\n",
    "%load_ext autoreload\n",
    "%autoreload 2"
   ]
  },
  {
   "cell_type": "code",
   "execution_count": 2,
   "metadata": {},
   "outputs": [],
   "source": [
    "input_path = r'C:\\Users\\rhys-\\OneDrive\\Documents\\Github\\chemprop\\notebooks\\big_data\\data\\ir_dataset_minmax_scaled.parquet' # path to your data .csv file\n",
    "num_workers = 0 # number of workers for dataloader. 0 means using main process for data loading\n",
    "smiles_column = \"smiles\" # name of the column containing SMILES strings\n",
    "target_columns = np.arange(400,4002,2).astype(str) # list of names of the columns containing targets\n",
    "\n",
    "df_input = pd.read_parquet(input_path)"
   ]
  },
  {
   "cell_type": "code",
   "execution_count": 3,
   "metadata": {},
   "outputs": [],
   "source": [
    "nist_test_path = r\"C:\\Users\\rhys-\\OneDrive\\Documents\\Github\\thesis_results\\data\\nist\\nist_test.parquet\"\n",
    "\n",
    "nist_test_df = pd.read_parquet(nist_test_path)\n",
    "\n",
    "test_datapoints = get_mol_datapoints(nist_test_df, smiles_column, target_columns)\n",
    "\n",
    "test_dset = data.MoleculeDataset(test_datapoints, featurizers.SimpleMoleculeMolGraphFeaturizer())\n",
    "\n",
    "test_loader = data.MolGraphDataLoader(test_dset, num_workers=num_workers)"
   ]
  },
  {
   "cell_type": "code",
   "execution_count": 4,
   "metadata": {},
   "outputs": [],
   "source": [
    "datapoints = get_mol_datapoints(df_input, smiles_column, target_columns)\n",
    "\n",
    "train_idx, val_idx, test_idx = data.splitting.split_data(\n",
    "    datapoints,\n",
    "    num_folds=8,\n",
    "    split='cv',\n",
    ")\n",
    "\n",
    "train_1 = [datapoints[i] for i in train_idx[0]]\n",
    "val_1 = [datapoints[i] for i in val_idx[0]]\n",
    "test_1 = [datapoints[i] for i in test_idx[0]]\n",
    "\n",
    "train_2 = [datapoints[i] for i in train_idx[1]]\n",
    "val_2 = [datapoints[i] for i in val_idx[1]]\n",
    "test_2 = [datapoints[i] for i in test_idx[1]]\n",
    "\n",
    "train_3 = [datapoints[i] for i in train_idx[2]]\n",
    "val_3 = [datapoints[i] for i in val_idx[2]]\n",
    "test_3 = [datapoints[i] for i in test_idx[2]]\n",
    "\n",
    "train_4 = [datapoints[i] for i in train_idx[3]]\n",
    "val_4 = [datapoints[i] for i in val_idx[3]]\n",
    "test_4 = [datapoints[i] for i in test_idx[3]]\n",
    "\n",
    "train_5 = [datapoints[i] for i in train_idx[4]]\n",
    "val_5 = [datapoints[i] for i in val_idx[4]]\n",
    "test_5 = [datapoints[i] for i in test_idx[4]]\n",
    "\n",
    "train_6 = [datapoints[i] for i in train_idx[5]]\n",
    "val_6 = [datapoints[i] for i in val_idx[5]]\n",
    "test_6= [datapoints[i] for i in test_idx[5]]\n",
    "\n",
    "train_7 = [datapoints[i] for i in train_idx[6]]\n",
    "val_7 = [datapoints[i] for i in val_idx[6]]\n",
    "test_7 = [datapoints[i] for i in test_idx[6]]\n",
    "\n",
    "train_8 = [datapoints[i] for i in train_idx[7]]\n",
    "val_8 = [datapoints[i] for i in val_idx[7]]\n",
    "test_8 = [datapoints[i] for i in test_idx[7]]\n",
    "\n",
    "def create_data_loaders(train_data, val_data, test_data, num_workers=0):\n",
    "    featurizer = featurizers.SimpleMoleculeMolGraphFeaturizer()\n",
    "\n",
    "    train_dset = data.MoleculeDataset(train_data, featurizer)\n",
    "    val_dset = data.MoleculeDataset(val_data, featurizer)\n",
    "    test_dset = data.MoleculeDataset(test_data, featurizer)\n",
    "\n",
    "    train_loader = data.MolGraphDataLoader(train_dset, batch_size=128, num_workers=num_workers)\n",
    "    val_loader = data.MolGraphDataLoader(val_dset, batch_size=128, num_workers=num_workers, shuffle=False)\n",
    "    test_loader = data.MolGraphDataLoader(test_dset, batch_size=128, num_workers=num_workers, shuffle=False)\n",
    "\n",
    "    return train_loader, val_loader, test_loader\n",
    "\n",
    "train_loader_1, val_loader_1, test_loader_1 = create_data_loaders(train_1, val_1, test_1, num_workers)\n",
    "train_loader_2, val_loader_2, test_loader_2 = create_data_loaders(train_2, val_2, test_2, num_workers)\n",
    "train_loader_3, val_loader_3, test_loader_3 = create_data_loaders(train_3, val_3, test_3, num_workers)\n",
    "train_loader_4, val_loader_4, test_loader_4 = create_data_loaders(train_4, val_4, test_4, num_workers)\n",
    "train_loader_5, val_loader_5, test_loader_5 = create_data_loaders(train_5, val_5, test_5, num_workers)\n",
    "train_loader_6, val_loader_6, test_loader_6 = create_data_loaders(train_6, val_6, test_6, num_workers)\n",
    "train_loader_7, val_loader_7, test_loader_7 = create_data_loaders(train_7, val_7, test_7, num_workers)\n",
    "train_loader_8, val_loader_8, test_loader_8 = create_data_loaders(train_8, val_8, test_8, num_workers)"
   ]
  },
  {
   "cell_type": "code",
   "execution_count": 13,
   "metadata": {},
   "outputs": [],
   "source": [
    "def create_model(metric: str, agg: str = 'mean', dropout: float = 0.05):\n",
    "    mp = nn.BondMessagePassing(\n",
    "    depth = 6,\n",
    "    d_h = 2200,\n",
    "    dropout=dropout,\n",
    "    # activation='SILU'\n",
    ")\n",
    "    if agg == 'mean':\n",
    "        agg = nn.MeanAggregation(\n",
    "\n",
    "        )\n",
    "\n",
    "    elif agg == 'attentive':\n",
    "        agg = nn.AttentiveAggregation(\n",
    "            output_size=2200,\n",
    "        )\n",
    "\n",
    "    elif agg == 'sum': \n",
    "        agg = nn.SumAggregation(\n",
    "        )\n",
    "    else:\n",
    "        raise ValueError(f'Invalid aggregation: {agg}')\n",
    "\n",
    "    # agg = nn.AttentiveAggregation(\n",
    "    #     output_size=2200,\n",
    "    # )\n",
    "\n",
    "    ffn = nn.RegressionFFN(\n",
    "        input_dim=2200,\n",
    "        n_layers=6,\n",
    "        hidden_dim=2200,\n",
    "        dropout=dropout,\n",
    "        # activation='SILU',\n",
    "        # loc=scaler.mean_, # pass in the mean of the training targets\n",
    "        # scale=scaler.scale_,\n",
    "        n_tasks=1801 # pass in the scale of the training targets\n",
    "    )\n",
    "    batch_norm=False\n",
    "    if metric == 'rmse':\n",
    "        metric_list = [nn.RMSEMetric()]\n",
    "    elif metric == 'sid':\n",
    "        metric_list = [nn.SIDMetric(), nn.RMSEMetric()]\n",
    "\n",
    "    else:\n",
    "        raise ValueError(f'Invalid metric: {metric}')\n",
    "    return models.MPNN(mp, agg, ffn, batch_norm, metrics=metric_list)\n",
    "\n",
    "mpnn1 = create_model('rmse', 'attentive', dropout=0)\n",
    "mpnn2 = create_model('rmse', 'attentive', dropout=0)\n",
    "mpnn3 = create_model('rmse', 'attentive', dropout=0)\n",
    "mpnn4 = create_model('rmse', 'attentive', dropout=0)\n",
    "mpnn5 = create_model('rmse', 'attentive', dropout=0)\n",
    "mpnn6 = create_model('rmse', 'attentive', dropout=0)\n",
    "mpnn7 = create_model('rmse', 'attentive', dropout=0)\n",
    "mpnn8 = create_model('rmse', 'attentive', dropout=0)\n"
   ]
  },
  {
   "cell_type": "code",
   "execution_count": 14,
   "metadata": {},
   "outputs": [
    {
     "name": "stderr",
     "output_type": "stream",
     "text": [
      "Using bfloat16 Automatic Mixed Precision (AMP)\n",
      "GPU available: True (cuda), used: True\n",
      "TPU available: False, using: 0 TPU cores\n",
      "IPU available: False, using: 0 IPUs\n",
      "HPU available: False, using: 0 HPUs\n",
      "Using bfloat16 Automatic Mixed Precision (AMP)\n",
      "GPU available: True (cuda), used: True\n",
      "TPU available: False, using: 0 TPU cores\n",
      "IPU available: False, using: 0 IPUs\n",
      "HPU available: False, using: 0 HPUs\n",
      "Using bfloat16 Automatic Mixed Precision (AMP)\n",
      "GPU available: True (cuda), used: True\n",
      "TPU available: False, using: 0 TPU cores\n",
      "IPU available: False, using: 0 IPUs\n",
      "HPU available: False, using: 0 HPUs\n",
      "Using bfloat16 Automatic Mixed Precision (AMP)\n",
      "GPU available: True (cuda), used: True\n",
      "TPU available: False, using: 0 TPU cores\n",
      "IPU available: False, using: 0 IPUs\n",
      "HPU available: False, using: 0 HPUs\n",
      "Using bfloat16 Automatic Mixed Precision (AMP)\n",
      "GPU available: True (cuda), used: True\n",
      "TPU available: False, using: 0 TPU cores\n",
      "IPU available: False, using: 0 IPUs\n",
      "HPU available: False, using: 0 HPUs\n",
      "Using bfloat16 Automatic Mixed Precision (AMP)\n",
      "GPU available: True (cuda), used: True\n",
      "TPU available: False, using: 0 TPU cores\n",
      "IPU available: False, using: 0 IPUs\n",
      "HPU available: False, using: 0 HPUs\n",
      "Using bfloat16 Automatic Mixed Precision (AMP)\n",
      "GPU available: True (cuda), used: True\n",
      "TPU available: False, using: 0 TPU cores\n",
      "IPU available: False, using: 0 IPUs\n",
      "HPU available: False, using: 0 HPUs\n",
      "Using bfloat16 Automatic Mixed Precision (AMP)\n",
      "GPU available: True (cuda), used: True\n",
      "TPU available: False, using: 0 TPU cores\n",
      "IPU available: False, using: 0 IPUs\n",
      "HPU available: False, using: 0 HPUs\n"
     ]
    }
   ],
   "source": [
    "epochs = 14\n",
    "\n",
    "trainer_1 = pl.Trainer(\n",
    "    precision='bf16-mixed',\n",
    "    logger=True,\n",
    "    enable_checkpointing=False, # Use `True` if you want to save model checkpoints. The checkpoints will be saved in the `checkpoints` folder.\n",
    "    enable_progress_bar=True,\n",
    "    accelerator=\"auto\",\n",
    "    devices=1,\n",
    "    max_epochs=epochs, # number of epochs to train for\n",
    "    # callbacks=[metric_tracker, early_stop_callback]\n",
    ")\n",
    "\n",
    "trainer_2 = pl.Trainer(\n",
    "    precision='bf16-mixed',\n",
    "    logger=True,\n",
    "    enable_checkpointing=False, # Use `True` if you want to save model checkpoints. The checkpoints will be saved in the `checkpoints` folder.\n",
    "    enable_progress_bar=True,\n",
    "    accelerator=\"auto\",\n",
    "    devices=1,\n",
    "    max_epochs=epochs, # number of epochs to train for\n",
    ")\n",
    "\n",
    "trainer_3 = pl.Trainer(\n",
    "    precision='bf16-mixed',\n",
    "    logger=True,\n",
    "    enable_checkpointing=False, # Use `True` if you want to save model checkpoints. The checkpoints will be saved in the `checkpoints` folder.\n",
    "    enable_progress_bar=True,\n",
    "    accelerator=\"auto\",\n",
    "    devices=1,\n",
    "    max_epochs=epochs, # number of epochs to train for\n",
    "    # callbacks=[metric_tracker, early_stop_callback]\n",
    ")\n",
    "\n",
    "trainer_4 = pl.Trainer(\n",
    "    precision='bf16-mixed',\n",
    "    logger=True,\n",
    "    enable_checkpointing=False, # Use `True` if you want to save model checkpoints. The checkpoints will be saved in the `checkpoints` folder.\n",
    "    enable_progress_bar=True,\n",
    "    accelerator=\"auto\",\n",
    "    devices=1,\n",
    "    max_epochs=epochs, # number of epochs to train for\n",
    ")\n",
    "\n",
    "trainer_5 = pl.Trainer(\n",
    "    precision='bf16-mixed',\n",
    "    logger=True,\n",
    "    enable_checkpointing=False, # Use `True` if you want to save model checkpoints. The checkpoints will be saved in the `checkpoints` folder.\n",
    "    enable_progress_bar=True,\n",
    "    accelerator=\"auto\",\n",
    "    devices=1,\n",
    "    max_epochs=epochs, # number of epochs to train for\n",
    "    # callbacks=[metric_tracker, early_stop_callback]\n",
    ")\n",
    "\n",
    "trainer_6 = pl.Trainer(\n",
    "    precision='bf16-mixed',\n",
    "    logger=True,\n",
    "    enable_checkpointing=False, # Use `True` if you want to save model checkpoints. The checkpoints will be saved in the `checkpoints` folder.\n",
    "    enable_progress_bar=True,\n",
    "    accelerator=\"auto\",\n",
    "    devices=1,\n",
    "    max_epochs=epochs, # number of epochs to train for\n",
    ")\n",
    "\n",
    "trainer_7 = pl.Trainer(\n",
    "    precision='bf16-mixed',\n",
    "    logger=True,\n",
    "    enable_checkpointing=False, # Use `True` if you want to save model checkpoints. The checkpoints will be saved in the `checkpoints` folder.\n",
    "    enable_progress_bar=True,\n",
    "    accelerator=\"auto\",\n",
    "    devices=1,\n",
    "    max_epochs=epochs, # number of epochs to train for\n",
    ")\n",
    "\n",
    "trainer_8 = pl.Trainer(\n",
    "    precision='bf16-mixed',\n",
    "    logger=True,\n",
    "    enable_checkpointing=False, # Use `True` if you want to save model checkpoints. The checkpoints will be saved in the `checkpoints` folder.\n",
    "    enable_progress_bar=True,\n",
    "    accelerator=\"auto\",\n",
    "    devices=1,\n",
    "    max_epochs=epochs, # number of epochs to train for\n",
    ")"
   ]
  },
  {
   "cell_type": "code",
   "execution_count": 15,
   "metadata": {},
   "outputs": [
    {
     "name": "stderr",
     "output_type": "stream",
     "text": [
      "LOCAL_RANK: 0 - CUDA_VISIBLE_DEVICES: [0]\n",
      "Loading `train_dataloader` to estimate number of stepping batches.\n",
      "c:\\Users\\rhys-\\miniconda3\\envs\\cp3\\Lib\\site-packages\\lightning\\pytorch\\trainer\\connectors\\data_connector.py:441: The 'train_dataloader' does not have many workers which may be a bottleneck. Consider increasing the value of the `num_workers` argument` to `num_workers=11` in the `DataLoader` to improve performance.\n",
      "\n",
      "  | Name            | Type                 | Params\n",
      "---------------------------------------------------------\n",
      "0 | message_passing | BondMessagePassing   | 10.3 M\n",
      "1 | agg             | AttentiveAggregation | 2.2 K \n",
      "2 | bn              | Identity             | 0     \n",
      "3 | predictor       | RegressionFFN        | 33.0 M\n",
      "  | other params    | n/a                  | 1.8 K \n",
      "---------------------------------------------------------\n",
      "43.3 M    Trainable params\n",
      "1.8 K     Non-trainable params\n",
      "43.3 M    Total params\n",
      "173.278   Total estimated model params size (MB)\n"
     ]
    },
    {
     "name": "stdout",
     "output_type": "stream",
     "text": [
      "Sanity Checking DataLoader 0:   0%|          | 0/2 [00:00<?, ?it/s]"
     ]
    },
    {
     "name": "stderr",
     "output_type": "stream",
     "text": [
      "c:\\Users\\rhys-\\miniconda3\\envs\\cp3\\Lib\\site-packages\\lightning\\pytorch\\trainer\\connectors\\data_connector.py:441: The 'val_dataloader' does not have many workers which may be a bottleneck. Consider increasing the value of the `num_workers` argument` to `num_workers=11` in the `DataLoader` to improve performance.\n"
     ]
    },
    {
     "name": "stdout",
     "output_type": "stream",
     "text": [
      "Epoch 4:  23%|██▎       | 177/761 [00:10<00:33, 17.50it/s, v_num=127, train/loss=0.00359, val_loss=0.0606]"
     ]
    }
   ],
   "source": [
    "trainer_1.fit(mpnn1, train_loader_1, val_loader_1)"
   ]
  },
  {
   "cell_type": "code",
   "execution_count": null,
   "metadata": {},
   "outputs": [
    {
     "name": "stderr",
     "output_type": "stream",
     "text": [
      "LOCAL_RANK: 0 - CUDA_VISIBLE_DEVICES: [0]\n",
      "c:\\Users\\rhys-\\miniconda3\\envs\\cp3\\Lib\\site-packages\\lightning\\pytorch\\trainer\\connectors\\data_connector.py:492: Your `predict_dataloader`'s sampler has shuffling enabled, it is strongly recommended that you turn shuffling off for val/test dataloaders.\n",
      "c:\\Users\\rhys-\\miniconda3\\envs\\cp3\\Lib\\site-packages\\lightning\\pytorch\\trainer\\connectors\\data_connector.py:441: The 'predict_dataloader' does not have many workers which may be a bottleneck. Consider increasing the value of the `num_workers` argument` to `num_workers=11` in the `DataLoader` to improve performance.\n"
     ]
    },
    {
     "name": "stdout",
     "output_type": "stream",
     "text": [
      "Predicting DataLoader 0: 100%|██████████| 767/767 [00:04<00:00, 158.39it/s]\n"
     ]
    }
   ],
   "source": [
    "mpnn_1_preds = trainer_1.predict(mpnn1, test_loader)\n",
    "def calculate_rmse(predicted_spectra, reference_spectra):\n",
    "    if len(predicted_spectra) != len(reference_spectra):\n",
    "        print(len(predicted_spectra), len(reference_spectra))\n",
    "        raise ValueError(\"Length of predicted and reference spectra lists should be the same.\")\n",
    "\n",
    "    rmse_values = []\n",
    "\n",
    "    for i in range(len(predicted_spectra)):\n",
    "        predicted = np.array(predicted_spectra[i]).squeeze()\n",
    "        reference = np.array(reference_spectra[i]).squeeze()\n",
    "\n",
    "        if len(predicted) != len(reference):\n",
    "            print(len(predicted), len(reference))\n",
    "            raise ValueError(f\"Length of predicted and reference spectra at index {i} should be the same.\")\n",
    "\n",
    "        mse = np.mean((predicted - reference) ** 2)\n",
    "        rmse = np.sqrt(mse)\n",
    "        rmse_values.append(rmse)\n",
    "\n",
    "    return rmse_values\n",
    "\n",
    "def calculate_sis(predicted_spectra, reference_spectra):\n",
    "    if len(predicted_spectra) != len(reference_spectra):\n",
    "        print(len(predicted_spectra), len(reference_spectra))\n",
    "        raise ValueError(\"Length of predicted and reference spectra lists should be the same.\")\n",
    "\n",
    "    sis_values = []\n",
    "\n",
    "    for i in range(len(predicted_spectra)):\n",
    "        predicted = np.array(predicted_spectra[i]).squeeze()\n",
    "        reference = np.array(reference_spectra[i]).squeeze()\n",
    "\n",
    "        if len(predicted) != len(reference):\n",
    "            print(len(predicted), len(reference))\n",
    "            raise ValueError(f\"Length of predicted and reference spectra at index {i} should be the same.\")\n",
    "\n",
    "        # Set any negative values to zero\n",
    "        predicted[predicted < 0] = 0\n",
    "        reference[reference < 0] = 0\n",
    "\n",
    "        # Add a small constant to avoid taking log of zero\n",
    "        epsilon = 1e-10\n",
    "        predicted += epsilon\n",
    "        reference += epsilon\n",
    "\n",
    "        # Ensure the spectra are normalized\n",
    "        predicted = predicted / np.sum(predicted)\n",
    "        reference = reference / np.sum(reference)\n",
    "\n",
    "        # Check for negative values\n",
    "        if np.any(predicted < 0) or np.any(reference < 0):\n",
    "            raise ValueError(\"Spectra contain negative values\")\n",
    "\n",
    "        # Check for zero values\n",
    "        if np.any(predicted == 0) or np.any(reference == 0):\n",
    "            raise ValueError(\"Spectra contain zero values\")\n",
    "\n",
    "        # Calculate the SID\n",
    "        sid = np.sum(predicted * np.log(predicted / reference)) + np.sum(reference * np.log(reference / predicted))\n",
    "\n",
    "        # Calculate the SIS\n",
    "        sis = 1 / (1 + sid)\n",
    "        sis_values.append(sis)\n",
    "\n",
    "    return sis_values\n",
    "\n",
    "# rmse = calculate_rmse(pt_model_1_preds, [test_loader.dataset[i].y for i in range(len(test_loader.dataset))])\n",
    "\n",
    "# sis = calculate_sis(pt_model_1_preds, [test_loader.dataset[i].y for i in range(len(test_loader.dataset))])\n",
    "\n",
    "mpnn_1_preds = [np.array(pred.float()).squeeze() for pred in mpnn_1_preds]\n",
    "test_spectra = [test_loader.dataset[i].y for i in range(len(test_loader.dataset))]\n",
    "\n",
    "sis_1 = calculate_sis(mpnn_1_preds, test_spectra)\n"
   ]
  },
  {
   "cell_type": "code",
   "execution_count": null,
   "metadata": {},
   "outputs": [
    {
     "data": {
      "text/plain": [
       "{'whiskers': [<matplotlib.lines.Line2D at 0x25a7b706850>,\n",
       "  <matplotlib.lines.Line2D at 0x25a7b7071d0>],\n",
       " 'caps': [<matplotlib.lines.Line2D at 0x25a7b707b90>,\n",
       "  <matplotlib.lines.Line2D at 0x25a7b730510>],\n",
       " 'boxes': [<matplotlib.lines.Line2D at 0x25a7b8eb4d0>],\n",
       " 'medians': [<matplotlib.lines.Line2D at 0x25a7b730ad0>],\n",
       " 'fliers': [<matplotlib.lines.Line2D at 0x25a7b7313d0>],\n",
       " 'means': []}"
      ]
     },
     "execution_count": 12,
     "metadata": {},
     "output_type": "execute_result"
    },
    {
     "data": {
      "image/png": "[encoded data removed]",
      "text/plain": [
       "<Figure size 640x480 with 1 Axes>"
      ]
     },
     "metadata": {},
     "output_type": "display_data"
    }
   ],
   "source": [
    "# plt.hist(sis_1, bins=20)\n",
    "\n",
    "# create a box plot of the SIS values\n",
    "plt.boxplot(sis_1)\n"
   ]
  },
  {
   "cell_type": "code",
   "execution_count": 48,
   "metadata": {},
   "outputs": [
    {
     "name": "stderr",
     "output_type": "stream",
     "text": [
      "LOCAL_RANK: 0 - CUDA_VISIBLE_DEVICES: [0]\n",
      "Loading `train_dataloader` to estimate number of stepping batches.\n",
      "\n",
      "  | Name            | Type                 | Params\n",
      "---------------------------------------------------------\n",
      "0 | message_passing | BondMessagePassing   | 10.3 M\n",
      "1 | agg             | AttentiveAggregation | 2.2 K \n",
      "2 | bn              | Identity             | 0     \n",
      "3 | predictor       | RegressionFFN        | 33.0 M\n",
      "  | other params    | n/a                  | 1.8 K \n",
      "---------------------------------------------------------\n",
      "43.3 M    Trainable params\n",
      "1.8 K     Non-trainable params\n",
      "43.3 M    Total params\n",
      "173.278   Total estimated model params size (MB)\n"
     ]
    },
    {
     "name": "stdout",
     "output_type": "stream",
     "text": [
      "Epoch 0:  12%|█▏        | 89/761 [00:05<00:42, 15.96it/s, v_num=124, train/loss=0.00677]"
     ]
    },
    {
     "name": "stderr",
     "output_type": "stream",
     "text": [
      "c:\\Users\\rhys-\\miniconda3\\envs\\cp3\\Lib\\site-packages\\lightning\\pytorch\\trainer\\call.py:54: Detected KeyboardInterrupt, attempting graceful shutdown...\n",
      "LOCAL_RANK: 0 - CUDA_VISIBLE_DEVICES: [0]\n",
      "Loading `train_dataloader` to estimate number of stepping batches.\n",
      "\n",
      "  | Name            | Type                 | Params\n",
      "---------------------------------------------------------\n",
      "0 | message_passing | BondMessagePassing   | 10.3 M\n",
      "1 | agg             | AttentiveAggregation | 2.2 K \n",
      "2 | bn              | Identity             | 0     \n",
      "3 | predictor       | RegressionFFN        | 33.0 M\n",
      "  | other params    | n/a                  | 1.8 K \n",
      "---------------------------------------------------------\n",
      "43.3 M    Trainable params\n",
      "1.8 K     Non-trainable params\n",
      "43.3 M    Total params\n",
      "173.278   Total estimated model params size (MB)\n"
     ]
    },
    {
     "name": "stdout",
     "output_type": "stream",
     "text": [
      "Epoch 0:  26%|██▋       | 201/761 [00:12<00:34, 16.41it/s, v_num=125, train/loss=0.00586]"
     ]
    }
   ],
   "source": [
    "trainer_2.fit(mpnn2, train_loader_2, val_loader_2)\n",
    "trainer_3.fit(mpnn3, train_loader_3, val_loader_3)\n",
    "trainer_4.fit(mpnn4, train_loader_4, val_loader_4)\n",
    "trainer_5.fit(mpnn5, train_loader_5, val_loader_5)\n",
    "trainer_6.fit(mpnn6, train_loader_6, val_loader_6)\n",
    "trainer_7.fit(mpnn7, train_loader_7, val_loader_7)\n",
    "trainer_8.fit(mpnn8, train_loader_8, val_loader_8)"
   ]
  },
  {
   "cell_type": "code",
   "execution_count": null,
   "metadata": {},
   "outputs": [],
   "source": [
    "# from chemprop import models \n",
    "\n",
    "# trainer_1.save_checkpoint(r'C:\\Users\\rhys-\\OneDrive\\Documents\\Github\\thesis_results\\models\\mpnn1.ckpt')\n",
    "# trainer_2.save_checkpoint(r'C:\\Users\\rhys-\\OneDrive\\Documents\\Github\\thesis_results\\models\\mpnn2.ckpt')\n",
    "# trainer_3.save_checkpoint(r'C:\\Users\\rhys-\\OneDrive\\Documents\\Github\\thesis_results\\models\\mpnn3.ckpt')\n",
    "# trainer_4.save_checkpoint(r'C:\\Users\\rhys-\\OneDrive\\Documents\\Github\\thesis_results\\models\\mpnn4.ckpt')\n",
    "# trainer_5.save_checkpoint(r'C:\\Users\\rhys-\\OneDrive\\Documents\\Github\\thesis_results\\models\\mpnn5.ckpt')\n",
    "# trainer_6.save_checkpoint(r'C:\\Users\\rhys-\\OneDrive\\Documents\\Github\\thesis_results\\models\\mpnn6.ckpt')\n",
    "# trainer_7.save_checkpoint(r'C:\\Users\\rhys-\\OneDrive\\Documents\\Github\\thesis_results\\models\\mpnn7.ckpt')\n",
    "# trainer_8.save_checkpoint(r'C:\\Users\\rhys-\\OneDrive\\Documents\\Github\\thesis_results\\models\\mpnn8.ckpt')\n",
    "\n",
    "# checkpoint = torch.load(r\"C:\\Users\\rhys-\\OneDrive\\Documents\\Github\\thesis_results\\models\\mpnn1.ckpt\")\n",
    "# checkpoint2 = torch.load(r\"C:\\Users\\rhys-\\OneDrive\\Documents\\Github\\thesis_results\\models\\mpnn2.ckpt\")\n",
    "# checkpoint3 = torch.load(r\"C:\\Users\\rhys-\\OneDrive\\Documents\\Github\\thesis_results\\models\\mpnn3.ckpt\")\n",
    "# checkpoint4 = torch.load(r\"C:\\Users\\rhys-\\OneDrive\\Documents\\Github\\thesis_results\\models\\mpnn4.ckpt\")\n",
    "# checkpoint5 = torch.load(r\"C:\\Users\\rhys-\\OneDrive\\Documents\\Github\\thesis_results\\models\\mpnn5.ckpt\")\n",
    "# checkpoint6 = torch.load(r\"C:\\Users\\rhys-\\OneDrive\\Documents\\Github\\thesis_results\\models\\mpnn6.ckpt\")\n",
    "# checkpoint7 = torch.load(r\"C:\\Users\\rhys-\\OneDrive\\Documents\\Github\\thesis_results\\models\\mpnn7.ckpt\")\n",
    "# checkpoint8 = torch.load(r\"C:\\Users\\rhys-\\OneDrive\\Documents\\Github\\thesis_results\\models\\mpnn8.ckpt\")\n",
    "\n",
    "# # Assuming 'output_size' needs to be added or corrected\n",
    "# # You need to know the correct value for 'output_size'\n",
    "# checkpoint['hyper_parameters']['agg']['output_size'] = 2200\n",
    "# checkpoint2['hyper_parameters']['agg']['output_size'] = 2200\n",
    "# checkpoint3['hyper_parameters']['agg']['output_size'] = 2200\n",
    "# checkpoint4['hyper_parameters']['agg']['output_size'] = 2200\n",
    "# checkpoint5['hyper_parameters']['agg']['output_size'] = 2200\n",
    "# checkpoint6['hyper_parameters']['agg']['output_size'] = 2200\n",
    "# checkpoint7['hyper_parameters']['agg']['output_size'] = 2200\n",
    "# checkpoint8['hyper_parameters']['agg']['output_size'] = 2200\n",
    "\n",
    "# torch.save(checkpoint, r\"C:\\Users\\rhys-\\OneDrive\\Documents\\Github\\thesis_results\\models\\modified_mpnn_1.ckpt\")\n",
    "# torch.save(checkpoint2, r\"C:\\Users\\rhys-\\OneDrive\\Documents\\Github\\thesis_results\\models\\modified_mpnn_2.ckpt\")\n",
    "# torch.save(checkpoint3, r\"C:\\Users\\rhys-\\OneDrive\\Documents\\Github\\thesis_results\\models\\modified_mpnn_3.ckpt\")\n",
    "# torch.save(checkpoint4, r\"C:\\Users\\rhys-\\OneDrive\\Documents\\Github\\thesis_results\\models\\modified_mpnn_4.ckpt\")\n",
    "# torch.save(checkpoint5, r\"C:\\Users\\rhys-\\OneDrive\\Documents\\Github\\thesis_results\\models\\modified_mpnn_5.ckpt\")\n",
    "# torch.save(checkpoint6, r\"C:\\Users\\rhys-\\OneDrive\\Documents\\Github\\thesis_results\\models\\modified_mpnn_6.ckpt\")\n",
    "# torch.save(checkpoint7, r\"C:\\Users\\rhys-\\OneDrive\\Documents\\Github\\thesis_results\\models\\modified_mpnn_7.ckpt\")\n",
    "# torch.save(checkpoint8, r\"C:\\Users\\rhys-\\OneDrive\\Documents\\Github\\thesis_results\\models\\modified_mpnn_8.ckpt\")\n",
    "\n"
   ]
  },
  {
   "cell_type": "code",
   "execution_count": null,
   "metadata": {},
   "outputs": [
    {
     "name": "stderr",
     "output_type": "stream",
     "text": [
      "LOCAL_RANK: 0 - CUDA_VISIBLE_DEVICES: [0]\n",
      "c:\\Users\\rhys-\\miniconda3\\envs\\cp3\\Lib\\site-packages\\lightning\\pytorch\\trainer\\connectors\\data_connector.py:492: Your `test_dataloader`'s sampler has shuffling enabled, it is strongly recommended that you turn shuffling off for val/test dataloaders.\n",
      "c:\\Users\\rhys-\\miniconda3\\envs\\cp3\\Lib\\site-packages\\lightning\\pytorch\\trainer\\connectors\\data_connector.py:441: The 'test_dataloader' does not have many workers which may be a bottleneck. Consider increasing the value of the `num_workers` argument` to `num_workers=11` in the `DataLoader` to improve performance.\n"
     ]
    },
    {
     "name": "stdout",
     "output_type": "stream",
     "text": [
      "Testing DataLoader 0: 100%|██████████| 16/16 [00:00<00:00, 28.57it/s]"
     ]
    },
    {
     "name": "stderr",
     "output_type": "stream",
     "text": [
      "LOCAL_RANK: 0 - CUDA_VISIBLE_DEVICES: [0]\n"
     ]
    },
    {
     "name": "stdout",
     "output_type": "stream",
     "text": [
      "\n",
      "────────────────────────────────────────────────────────────────────────────────────────────────────────────────────────\n",
      "       Test metric             DataLoader 0\n",
      "────────────────────────────────────────────────────────────────────────────────────────────────────────────────────────\n",
      "        test/rmse           0.09786268323659897\n",
      "────────────────────────────────────────────────────────────────────────────────────────────────────────────────────────\n",
      "Testing DataLoader 0: 100%|██████████| 16/16 [00:00<00:00, 30.77it/s]"
     ]
    },
    {
     "name": "stderr",
     "output_type": "stream",
     "text": [
      "LOCAL_RANK: 0 - CUDA_VISIBLE_DEVICES: [0]\n"
     ]
    },
    {
     "name": "stdout",
     "output_type": "stream",
     "text": [
      "\n",
      "────────────────────────────────────────────────────────────────────────────────────────────────────────────────────────\n",
      "       Test metric             DataLoader 0\n",
      "────────────────────────────────────────────────────────────────────────────────────────────────────────────────────────\n",
      "        test/rmse           0.09854502230882645\n",
      "────────────────────────────────────────────────────────────────────────────────────────────────────────────────────────\n",
      "Testing DataLoader 0: 100%|██████████| 16/16 [00:00<00:00, 29.91it/s]\n",
      "────────────────────────────────────────────────────────────────────────────────────────────────────────────────────────\n",
      "       Test metric             DataLoader 0\n",
      "────────────────────────────────────────────────────────────────────────────────────────────────────────────────────────\n",
      "        test/rmse           0.09869420528411865\n",
      "────────────────────────────────────────────────────────────────────────────────────────────────────────────────────────\n"
     ]
    },
    {
     "name": "stderr",
     "output_type": "stream",
     "text": [
      "LOCAL_RANK: 0 - CUDA_VISIBLE_DEVICES: [0]\n"
     ]
    },
    {
     "name": "stdout",
     "output_type": "stream",
     "text": [
      "Testing DataLoader 0: 100%|██████████| 16/16 [00:01<00:00, 14.20it/s]"
     ]
    },
    {
     "name": "stderr",
     "output_type": "stream",
     "text": [
      "LOCAL_RANK: 0 - CUDA_VISIBLE_DEVICES: [0]\n"
     ]
    },
    {
     "name": "stdout",
     "output_type": "stream",
     "text": [
      "\n",
      "────────────────────────────────────────────────────────────────────────────────────────────────────────────────────────\n",
      "       Test metric             DataLoader 0\n",
      "────────────────────────────────────────────────────────────────────────────────────────────────────────────────────────\n",
      "        test/rmse           0.09856154024600983\n",
      "────────────────────────────────────────────────────────────────────────────────────────────────────────────────────────\n",
      "Testing DataLoader 0: 100%|██████████| 16/16 [00:00<00:00, 17.38it/s]"
     ]
    },
    {
     "name": "stderr",
     "output_type": "stream",
     "text": [
      "LOCAL_RANK: 0 - CUDA_VISIBLE_DEVICES: [0]\n"
     ]
    },
    {
     "name": "stdout",
     "output_type": "stream",
     "text": [
      "\n",
      "────────────────────────────────────────────────────────────────────────────────────────────────────────────────────────\n",
      "       Test metric             DataLoader 0\n",
      "────────────────────────────────────────────────────────────────────────────────────────────────────────────────────────\n",
      "        test/rmse           0.09799440950155258\n",
      "────────────────────────────────────────────────────────────────────────────────────────────────────────────────────────\n",
      "Testing DataLoader 0: 100%|██████████| 16/16 [00:00<00:00, 25.60it/s]\n",
      "────────────────────────────────────────────────────────────────────────────────────────────────────────────────────────\n",
      "       Test metric             DataLoader 0\n",
      "────────────────────────────────────────────────────────────────────────────────────────────────────────────────────────\n",
      "        test/rmse           0.09825838357210159\n",
      "────────────────────────────────────────────────────────────────────────────────────────────────────────────────────────\n"
     ]
    },
    {
     "name": "stderr",
     "output_type": "stream",
     "text": [
      "LOCAL_RANK: 0 - CUDA_VISIBLE_DEVICES: [0]\n"
     ]
    },
    {
     "name": "stdout",
     "output_type": "stream",
     "text": [
      "Testing DataLoader 0: 100%|██████████| 16/16 [00:00<00:00, 32.85it/s]"
     ]
    },
    {
     "name": "stderr",
     "output_type": "stream",
     "text": [
      "LOCAL_RANK: 0 - CUDA_VISIBLE_DEVICES: [0]\n"
     ]
    },
    {
     "name": "stdout",
     "output_type": "stream",
     "text": [
      "\n",
      "────────────────────────────────────────────────────────────────────────────────────────────────────────────────────────\n",
      "       Test metric             DataLoader 0\n",
      "────────────────────────────────────────────────────────────────────────────────────────────────────────────────────────\n",
      "        test/rmse           0.09853657335042953\n",
      "────────────────────────────────────────────────────────────────────────────────────────────────────────────────────────\n",
      "Testing DataLoader 0: 100%|██████████| 16/16 [00:00<00:00, 32.65it/s]\n",
      "────────────────────────────────────────────────────────────────────────────────────────────────────────────────────────\n",
      "       Test metric             DataLoader 0\n",
      "────────────────────────────────────────────────────────────────────────────────────────────────────────────────────────\n",
      "        test/rmse           0.0988086462020874\n",
      "────────────────────────────────────────────────────────────────────────────────────────────────────────────────────────\n"
     ]
    },
    {
     "data": {
      "text/plain": [
       "[{'test/rmse': 0.0988086462020874}]"
      ]
     },
     "execution_count": 41,
     "metadata": {},
     "output_type": "execute_result"
    }
   ],
   "source": [
    "trainer_1.test(mpnn1, test_loader)\n",
    "trainer_2.test(mpnn2, test_loader)\n",
    "trainer_3.test(mpnn3, test_loader)\n",
    "trainer_4.test(mpnn4, test_loader)\n",
    "trainer_5.test(mpnn5, test_loader)\n",
    "trainer_6.test(mpnn6, test_loader)\n",
    "trainer_7.test(mpnn7, test_loader)\n",
    "trainer_8.test(mpnn8, test_loader)\n"
   ]
  },
  {
   "cell_type": "code",
   "execution_count": null,
   "metadata": {},
   "outputs": [
    {
     "name": "stderr",
     "output_type": "stream",
     "text": [
      "LOCAL_RANK: 0 - CUDA_VISIBLE_DEVICES: [0]\n",
      "c:\\Users\\rhys-\\miniconda3\\envs\\cp3\\Lib\\site-packages\\lightning\\pytorch\\trainer\\connectors\\data_connector.py:492: Your `predict_dataloader`'s sampler has shuffling enabled, it is strongly recommended that you turn shuffling off for val/test dataloaders.\n",
      "c:\\Users\\rhys-\\miniconda3\\envs\\cp3\\Lib\\site-packages\\lightning\\pytorch\\trainer\\connectors\\data_connector.py:441: The 'predict_dataloader' does not have many workers which may be a bottleneck. Consider increasing the value of the `num_workers` argument` to `num_workers=11` in the `DataLoader` to improve performance.\n"
     ]
    },
    {
     "name": "stdout",
     "output_type": "stream",
     "text": [
      "Predicting DataLoader 0: 100%|██████████| 767/767 [00:04<00:00, 178.04it/s]"
     ]
    },
    {
     "name": "stderr",
     "output_type": "stream",
     "text": [
      "LOCAL_RANK: 0 - CUDA_VISIBLE_DEVICES: [0]\n"
     ]
    },
    {
     "name": "stdout",
     "output_type": "stream",
     "text": [
      "\n",
      "Predicting DataLoader 0: 100%|██████████| 767/767 [00:04<00:00, 162.05it/s]"
     ]
    },
    {
     "name": "stderr",
     "output_type": "stream",
     "text": [
      "LOCAL_RANK: 0 - CUDA_VISIBLE_DEVICES: [0]\n"
     ]
    },
    {
     "name": "stdout",
     "output_type": "stream",
     "text": [
      "\n",
      "Predicting DataLoader 0: 100%|██████████| 767/767 [00:04<00:00, 180.92it/s]"
     ]
    },
    {
     "name": "stderr",
     "output_type": "stream",
     "text": [
      "LOCAL_RANK: 0 - CUDA_VISIBLE_DEVICES: [0]\n"
     ]
    },
    {
     "name": "stdout",
     "output_type": "stream",
     "text": [
      "\n",
      "Predicting DataLoader 0: 100%|██████████| 767/767 [00:04<00:00, 184.73it/s]"
     ]
    },
    {
     "name": "stderr",
     "output_type": "stream",
     "text": [
      "LOCAL_RANK: 0 - CUDA_VISIBLE_DEVICES: [0]\n"
     ]
    },
    {
     "name": "stdout",
     "output_type": "stream",
     "text": [
      "\n",
      "Predicting DataLoader 0: 100%|██████████| 767/767 [00:04<00:00, 172.59it/s]\n"
     ]
    },
    {
     "name": "stderr",
     "output_type": "stream",
     "text": [
      "LOCAL_RANK: 0 - CUDA_VISIBLE_DEVICES: [0]\n"
     ]
    },
    {
     "name": "stdout",
     "output_type": "stream",
     "text": [
      "Predicting DataLoader 0: 100%|██████████| 767/767 [00:03<00:00, 192.09it/s]\n"
     ]
    },
    {
     "name": "stderr",
     "output_type": "stream",
     "text": [
      "LOCAL_RANK: 0 - CUDA_VISIBLE_DEVICES: [0]\n"
     ]
    },
    {
     "name": "stdout",
     "output_type": "stream",
     "text": [
      "Predicting DataLoader 0: 100%|██████████| 767/767 [00:04<00:00, 176.16it/s]\n"
     ]
    },
    {
     "name": "stderr",
     "output_type": "stream",
     "text": [
      "LOCAL_RANK: 0 - CUDA_VISIBLE_DEVICES: [0]\n"
     ]
    },
    {
     "name": "stdout",
     "output_type": "stream",
     "text": [
      "Predicting DataLoader 0: 100%|██████████| 767/767 [00:04<00:00, 185.00it/s]\n"
     ]
    }
   ],
   "source": [
    "mpnn_1_preds = trainer_1.predict(mpnn1, test_loader)\n",
    "mpnn_2_preds = trainer_2.predict(mpnn2, test_loader)\n",
    "mpnn_3_preds = trainer_3.predict(mpnn3, test_loader)\n",
    "mpnn_4_preds = trainer_4.predict(mpnn4, test_loader)\n",
    "mpnn_5_preds = trainer_5.predict(mpnn5, test_loader)\n",
    "mpnn_6_preds = trainer_6.predict(mpnn6, test_loader)\n",
    "mpnn_7_preds = trainer_7.predict(mpnn7, test_loader)\n",
    "mpnn_8_preds = trainer_8.predict(mpnn8, test_loader)\n"
   ]
  },
  {
   "cell_type": "code",
   "execution_count": null,
   "metadata": {},
   "outputs": [],
   "source": [
    "def calculate_rmse(predicted_spectra, reference_spectra):\n",
    "    if len(predicted_spectra) != len(reference_spectra):\n",
    "        print(len(predicted_spectra), len(reference_spectra))\n",
    "        raise ValueError(\"Length of predicted and reference spectra lists should be the same.\")\n",
    "\n",
    "    rmse_values = []\n",
    "\n",
    "    for i in range(len(predicted_spectra)):\n",
    "        predicted = np.array(predicted_spectra[i]).squeeze()\n",
    "        reference = np.array(reference_spectra[i]).squeeze()\n",
    "\n",
    "        if len(predicted) != len(reference):\n",
    "            print(len(predicted), len(reference))\n",
    "            raise ValueError(f\"Length of predicted and reference spectra at index {i} should be the same.\")\n",
    "\n",
    "        mse = np.mean((predicted - reference) ** 2)\n",
    "        rmse = np.sqrt(mse)\n",
    "        rmse_values.append(rmse)\n",
    "\n",
    "    return rmse_values\n",
    "\n",
    "def calculate_sis(predicted_spectra, reference_spectra):\n",
    "    if len(predicted_spectra) != len(reference_spectra):\n",
    "        print(len(predicted_spectra), len(reference_spectra))\n",
    "        raise ValueError(\"Length of predicted and reference spectra lists should be the same.\")\n",
    "\n",
    "    sis_values = []\n",
    "\n",
    "    for i in range(len(predicted_spectra)):\n",
    "        predicted = np.array(predicted_spectra[i]).squeeze()\n",
    "        reference = np.array(reference_spectra[i]).squeeze()\n",
    "\n",
    "        if len(predicted) != len(reference):\n",
    "            print(len(predicted), len(reference))\n",
    "            raise ValueError(f\"Length of predicted and reference spectra at index {i} should be the same.\")\n",
    "\n",
    "        # Set any negative values to zero\n",
    "        predicted[predicted < 0] = 0\n",
    "        reference[reference < 0] = 0\n",
    "\n",
    "        # Add a small constant to avoid taking log of zero\n",
    "        epsilon = 1e-10\n",
    "        predicted += epsilon\n",
    "        reference += epsilon\n",
    "\n",
    "        # Ensure the spectra are normalized\n",
    "        predicted = predicted / np.sum(predicted)\n",
    "        reference = reference / np.sum(reference)\n",
    "\n",
    "        # Check for negative values\n",
    "        if np.any(predicted < 0) or np.any(reference < 0):\n",
    "            raise ValueError(\"Spectra contain negative values\")\n",
    "\n",
    "        # Check for zero values\n",
    "        if np.any(predicted == 0) or np.any(reference == 0):\n",
    "            raise ValueError(\"Spectra contain zero values\")\n",
    "\n",
    "        # Calculate the SID\n",
    "        sid = np.sum(predicted * np.log(predicted / reference)) + np.sum(reference * np.log(reference / predicted))\n",
    "\n",
    "        # Calculate the SIS\n",
    "        sis = 1 / (1 + sid)\n",
    "        sis_values.append(sis)\n",
    "\n",
    "    return sis_values\n",
    "\n",
    "# rmse = calculate_rmse(pt_model_1_preds, [test_loader.dataset[i].y for i in range(len(test_loader.dataset))])\n",
    "\n",
    "# sis = calculate_sis(pt_model_1_preds, [test_loader.dataset[i].y for i in range(len(test_loader.dataset))])\n",
    "\n",
    "mpnn_1_preds = [np.array(pred.float()).squeeze() for pred in mpnn_1_preds]\n",
    "mpnn_2_preds = [np.array(pred.float()).squeeze() for pred in mpnn_2_preds]\n",
    "mpnn_3_preds = [np.array(pred.float()).squeeze() for pred in mpnn_3_preds]\n",
    "mpnn_4_preds = [np.array(pred.float()).squeeze() for pred in mpnn_4_preds]\n",
    "mpnn_5_preds = [np.array(pred.float()).squeeze() for pred in mpnn_5_preds]\n",
    "mpnn_6_preds = [np.array(pred.float()).squeeze() for pred in mpnn_6_preds]\n",
    "mpnn_7_preds = [np.array(pred.float()).squeeze() for pred in mpnn_7_preds]\n",
    "mpnn_8_preds = [np.array(pred.float()).squeeze() for pred in mpnn_8_preds]\n",
    "\n",
    "test_spectra = [test_loader.dataset[i].y for i in range(len(test_loader.dataset))]\n",
    "\n",
    "rmse_1 = calculate_rmse(mpnn_1_preds, test_spectra)\n",
    "rmse_2 = calculate_rmse(mpnn_2_preds, test_spectra)\n",
    "rmse_3 = calculate_rmse(mpnn_3_preds, test_spectra)\n",
    "rmse_4 = calculate_rmse(mpnn_4_preds, test_spectra)\n",
    "rmse_5 = calculate_rmse(mpnn_5_preds, test_spectra)\n",
    "rmse_6 = calculate_rmse(mpnn_6_preds, test_spectra)\n",
    "rmse_7 = calculate_rmse(mpnn_7_preds, test_spectra)\n",
    "rmse_8 = calculate_rmse(mpnn_8_preds, test_spectra)\n",
    "\n",
    "sis_1 = calculate_sis(mpnn_1_preds, test_spectra)\n",
    "sis_2 = calculate_sis(mpnn_2_preds, test_spectra)\n",
    "sis_3 = calculate_sis(mpnn_3_preds, test_spectra)\n",
    "sis_4 = calculate_sis(mpnn_4_preds, test_spectra)\n",
    "sis_5 = calculate_sis(mpnn_5_preds, test_spectra)\n",
    "sis_6 = calculate_sis(mpnn_6_preds, test_spectra)\n",
    "sis_7 = calculate_sis(mpnn_7_preds, test_spectra)\n",
    "sis_8 = calculate_sis(mpnn_8_preds, test_spectra)\n",
    "\n",
    "# no_dropout_preds = [np.array(pred).squeeze() for pred in no_dropout_preds]\n",
    "# dropout_preds = [np.array(pred).squeeze() for pred in dropout_preds]\n"
   ]
  },
  {
   "cell_type": "code",
   "execution_count": null,
   "metadata": {},
   "outputs": [
    {
     "data": {
      "image/png": "[encoded data removed]",
      "text/plain": [
       "<Figure size 1200x800 with 1 Axes>"
      ]
     },
     "metadata": {},
     "output_type": "display_data"
    },
    {
     "data": {
      "image/png": "[encoded data removed]",
      "text/plain": [
       "<Figure size 1200x800 with 1 Axes>"
      ]
     },
     "metadata": {},
     "output_type": "display_data"
    },
    {
     "data": {
      "image/png": "[encoded data removed]",
      "text/plain": [
       "<Figure size 1200x800 with 1 Axes>"
      ]
     },
     "metadata": {},
     "output_type": "display_data"
    }
   ],
   "source": [
    "# plot violin plots of SIS\n",
    "plt.figure(figsize=(12, 8))\n",
    "plt.violinplot([sis_1, sis_2, sis_3, sis_4, sis_5, sis_6, sis_7, sis_8])\n",
    "plt.xticks([1, 2, 3, 4, 5, 6, 7, 8], ['1', '2', '3', '4', '5', '6', '7', '8'])\n",
    "plt.xlabel('Model Number')\n",
    "plt.ylabel('SIS')\n",
    "plt.title('SIS of MPNN models')\n",
    "plt.show()\n",
    "\n",
    "# plot histograms of SIS\n",
    "plt.figure(figsize=(12, 8))\n",
    "plt.hist(sis_1, bins=50, alpha=0.5, label='Model 1')\n",
    "plt.hist(sis_2, bins=50, alpha=0.5, label='Model 2')\n",
    "plt.hist(sis_3, bins=50, alpha=0.5, label='Model 3')\n",
    "plt.hist(sis_4, bins=50, alpha=0.5, label='Model 4')\n",
    "plt.hist(sis_5, bins=50, alpha=0.5, label='Model 5')\n",
    "plt.hist(sis_6, bins=50, alpha=0.5, label='Model 6')\n",
    "plt.hist(sis_7, bins=50, alpha=0.5, label='Model 7')\n",
    "plt.hist(sis_8, bins=50, alpha=0.5, label='Model 8')\n",
    "\n",
    "plt.xlabel('SIS')\n",
    "plt.ylabel('Frequency')\n",
    "plt.title('Histogram of SIS of MPNN models')\n",
    "plt.legend()\n",
    "plt.show()\n",
    "\n",
    "# plot boxplots of SIS\n",
    "plt.figure(figsize=(12, 8))\n",
    "plt.boxplot([sis_1, sis_2, sis_3, sis_4, sis_5, sis_6, sis_7, sis_8])\n",
    "plt.xticks([1, 2, 3, 4, 5, 6, 7, 8], ['1', '2', '3', '4', '5', '6', '7', '8'])\n",
    "plt.xlabel('Model Number')\n",
    "plt.ylabel('SIS')\n",
    "plt.title('SIS of MPNN models')\n",
    "plt.show()\n",
    "\n"
   ]
  },
  {
   "cell_type": "code",
   "execution_count": null,
   "metadata": {},
   "outputs": [],
   "source": [
    "loaded_model = models.MPNN.load_from_checkpoint(r\"C:\\Users\\rhys-\\OneDrive\\Documents\\Github\\thesis_results\\models\\modified_mpnn_1.ckpt\")\n"
   ]
  },
  {
   "cell_type": "code",
   "execution_count": null,
   "metadata": {},
   "outputs": [
    {
     "name": "stderr",
     "output_type": "stream",
     "text": [
      "Using bfloat16 Automatic Mixed Precision (AMP)\n",
      "GPU available: True (cuda), used: True\n",
      "TPU available: False, using: 0 TPU cores\n",
      "IPU available: False, using: 0 IPUs\n",
      "HPU available: False, using: 0 HPUs\n",
      "LOCAL_RANK: 0 - CUDA_VISIBLE_DEVICES: [0]\n",
      "c:\\Users\\rhys-\\miniconda3\\envs\\cp3\\Lib\\site-packages\\lightning\\pytorch\\trainer\\connectors\\data_connector.py:441: The 'test_dataloader' does not have many workers which may be a bottleneck. Consider increasing the value of the `num_workers` argument` to `num_workers=11` in the `DataLoader` to improve performance.\n"
     ]
    },
    {
     "name": "stdout",
     "output_type": "stream",
     "text": [
      "Testing DataLoader 0: 100%|██████████| 325/325 [00:07<00:00, 40.90it/s]\n",
      "────────────────────────────────────────────────────────────────────────────────────────────────────────────────────────\n",
      "       Test metric             DataLoader 0\n",
      "────────────────────────────────────────────────────────────────────────────────────────────────────────────────────────\n",
      "        test/rmse          0.057879265397787094\n",
      "────────────────────────────────────────────────────────────────────────────────────────────────────────────────────────\n"
     ]
    },
    {
     "data": {
      "text/plain": [
       "[{'test/rmse': 0.057879265397787094}]"
      ]
     },
     "execution_count": 11,
     "metadata": {},
     "output_type": "execute_result"
    }
   ],
   "source": [
    "trainer_loaded = pl.Trainer(\n",
    "    precision='bf16-mixed',\n",
    "    logger=True,\n",
    "    enable_checkpointing=False, # Use `True` if you want to save model checkpoints. The checkpoints will be saved in the `checkpoints` folder.\n",
    "    enable_progress_bar=True,\n",
    "    accelerator=\"auto\",\n",
    "    devices=1,\n",
    "    max_epochs=6, # number of epochs to train for\n",
    "    # callbacks=[metric_tracker, early_stop_callback]\n",
    ")\n",
    "\n",
    "trainer_loaded.test(loaded_model, test_loader_1)"
   ]
  },
  {
   "cell_type": "code",
   "execution_count": null,
   "metadata": {},
   "outputs": [],
   "source": []
  }
 ],
 "metadata": {
  "kernelspec": {
   "display_name": "cp3",
   "language": "python",
   "name": "python3"
  },
  "language_info": {
   "codemirror_mode": {
    "name": "ipython",
    "version": 3
   },
   "file_extension": ".py",
   "mimetype": "text/x-python",
   "name": "python",
   "nbconvert_exporter": "python",
   "pygments_lexer": "ipython3",
   "version": "3.11.8"
  }
 },
 "nbformat": 4,
 "nbformat_minor": 2
}
